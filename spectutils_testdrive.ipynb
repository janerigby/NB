{
 "cells": [
  {
   "cell_type": "markdown",
   "metadata": {},
   "source": [
    "# Jane's notes on trying the astropy module spectools.  Dec 2020. "
   ]
  },
  {
   "cell_type": "markdown",
   "metadata": {},
   "source": [
    "Use case is to fit emission line strengths from a synthetic spectrum made by Prospector, which has been fit by Gourav Khullar to the spectral energy distribution (SED) of the lensed galaxy SGAS 1723.  The SED is used in Florian et al. 2020 (about to be resubmitted to ApJ)."
   ]
  },
  {
   "cell_type": "markdown",
   "metadata": {},
   "source": [
    "1) I tried using the spectools demo. Ran into a cryptic problem ( https://github.com/astropy/specutils/issues/739) traced back to a bad astroconda install.  Despite it being a new install, it was using python 2.7.  Had to re-install anaconda and astroconda from scratch.  3 hrs lost.  OK, now I have a good astroconda, and specutils is loading.  "
   ]
  },
  {
   "cell_type": "code",
   "execution_count": 213,
   "metadata": {},
   "outputs": [],
   "source": [
    "import pandas\n",
    "import numpy as np\n",
    "import matplotlib.pyplot as plt\n",
    "import jrr   # from https://github.com/janerigby/jrr\n",
    "# Below is specutils stuff, from https://specutils.readthedocs.io/en/stable/\n",
    "import specutils\n",
    "from specutils.fitting import fit_generic_continuum, find_lines_derivative\n",
    "from astropy import units as u\n",
    "from astropy.visualization import quantity_support"
   ]
  },
  {
   "cell_type": "code",
   "execution_count": 121,
   "metadata": {},
   "outputs": [],
   "source": [
    "# Load the spectrum file\n",
    "def grab_Gouravs_file(filename, zz) :\n",
    "    # Gourav printed out the SED horizontally (all waves, then all fnus), and weird units\n",
    "    temp  = pandas.read_csv(filename, delim_whitespace=True, comment='#')\n",
    "    df = temp.transpose().astype('float64')\n",
    "    df.reset_index(inplace=True)\n",
    "    df.columns=['wave', 'fnu_maggies']\n",
    "    df['fnu'] = df['fnu_maggies']*3631. # convert from maggies to Janskies\n",
    "    df['fnu_u'] = df['fnu'] * 0\n",
    "    # Units are now wavelength in Angstroms and fnu in Janskies\n",
    "    df.drop(columns='fnu_maggies', inplace=True)\n",
    "    df2 = df.astype('float64').copy(deep=True)\n",
    "    jrr.spec.convert2restframe_df(df2, zz, units='fnu', colwave='wave', colf='fnu', colf_u='fnu_u')\n",
    "    return(df2)"
   ]
  },
  {
   "cell_type": "code",
   "execution_count": 122,
   "metadata": {},
   "outputs": [
    {
     "data": {
      "text/html": [
       "<div>\n",
       "<style scoped>\n",
       "    .dataframe tbody tr th:only-of-type {\n",
       "        vertical-align: middle;\n",
       "    }\n",
       "\n",
       "    .dataframe tbody tr th {\n",
       "        vertical-align: top;\n",
       "    }\n",
       "\n",
       "    .dataframe thead th {\n",
       "        text-align: right;\n",
       "    }\n",
       "</style>\n",
       "<table border=\"1\" class=\"dataframe\">\n",
       "  <thead>\n",
       "    <tr style=\"text-align: right;\">\n",
       "      <th></th>\n",
       "      <th>wave</th>\n",
       "      <th>fnu</th>\n",
       "      <th>fnu_u</th>\n",
       "      <th>rest_wave</th>\n",
       "      <th>rest_fnu</th>\n",
       "      <th>rest_fnu_u</th>\n",
       "    </tr>\n",
       "  </thead>\n",
       "  <tbody>\n",
       "    <tr>\n",
       "      <th>250</th>\n",
       "      <td>5021.15</td>\n",
       "      <td>5.925467e-07</td>\n",
       "      <td>0.0</td>\n",
       "      <td>2155.647619</td>\n",
       "      <td>2.543883e-07</td>\n",
       "      <td>0.0</td>\n",
       "    </tr>\n",
       "    <tr>\n",
       "      <th>251</th>\n",
       "      <td>5044.45</td>\n",
       "      <td>5.823926e-07</td>\n",
       "      <td>0.0</td>\n",
       "      <td>2165.650625</td>\n",
       "      <td>2.500290e-07</td>\n",
       "      <td>0.0</td>\n",
       "    </tr>\n",
       "  </tbody>\n",
       "</table>\n",
       "</div>"
      ],
      "text/plain": [
       "        wave           fnu  fnu_u    rest_wave      rest_fnu  rest_fnu_u\n",
       "250  5021.15  5.925467e-07    0.0  2155.647619  2.543883e-07         0.0\n",
       "251  5044.45  5.823926e-07    0.0  2165.650625  2.500290e-07         0.0"
      ]
     },
     "execution_count": 122,
     "metadata": {},
     "output_type": "execute_result"
    }
   ],
   "source": [
    "quantity_support()  # for getting units on the axes \n",
    "zz_1723 = 1.3293\n",
    "# Load the spectrum file into a Pandas DataFrame\n",
    "df_s1723 = grab_Gouravs_file(\"Example_data/1723_bestfit_nov2020.txt\", zz_1723)\n",
    "df_s1723.loc[df_s1723['wave'].between(5000,5100)].head(2)  # Let's see a bit of this file\n"
   ]
  },
  {
   "cell_type": "code",
   "execution_count": 123,
   "metadata": {},
   "outputs": [
    {
     "ename": "ValueError",
     "evalue": "Flux must be a `Quantity` object.",
     "output_type": "error",
     "traceback": [
      "\u001b[0;31m---------------------------------------------------------------------------\u001b[0m",
      "\u001b[0;31mValueError\u001b[0m                                Traceback (most recent call last)",
      "\u001b[0;32m<ipython-input-123-b498a0181747>\u001b[0m in \u001b[0;36m<module>\u001b[0;34m\u001b[0m\n\u001b[1;32m      1\u001b[0m \u001b[0;31m# Specutils won't take a dataframe.  It requires the data to be in a Spectrum1D object.  OK, let's try\u001b[0m\u001b[0;34m\u001b[0m\u001b[0;34m\u001b[0m\u001b[0;34m\u001b[0m\u001b[0m\n\u001b[0;32m----> 2\u001b[0;31m \u001b[0ms1723_spec\u001b[0m \u001b[0;34m=\u001b[0m \u001b[0mspecutils\u001b[0m\u001b[0;34m.\u001b[0m\u001b[0mSpectrum1D\u001b[0m\u001b[0;34m(\u001b[0m\u001b[0mspectral_axis\u001b[0m \u001b[0;34m=\u001b[0m \u001b[0mdf_s1723\u001b[0m\u001b[0;34m[\u001b[0m\u001b[0;34m'wave'\u001b[0m\u001b[0;34m]\u001b[0m \u001b[0;34m*\u001b[0m \u001b[0mu\u001b[0m\u001b[0;34m.\u001b[0m\u001b[0mAA\u001b[0m\u001b[0;34m,\u001b[0m \u001b[0mflux\u001b[0m\u001b[0;34m=\u001b[0m\u001b[0mdf_s1723\u001b[0m\u001b[0;34m[\u001b[0m\u001b[0;34m'fnu'\u001b[0m\u001b[0;34m]\u001b[0m \u001b[0;34m*\u001b[0m \u001b[0mu\u001b[0m\u001b[0;34m.\u001b[0m\u001b[0mUnit\u001b[0m\u001b[0;34m(\u001b[0m\u001b[0;34m'Jansky'\u001b[0m\u001b[0;34m)\u001b[0m\u001b[0;34m)\u001b[0m\u001b[0;34m\u001b[0m\u001b[0;34m\u001b[0m\u001b[0m\n\u001b[0m",
      "\u001b[0;32m~/anaconda3/envs/astroconda/lib/python3.6/site-packages/specutils/spectra/spectrum1d.py\u001b[0m in \u001b[0;36m__init__\u001b[0;34m(self, flux, spectral_axis, wcs, velocity_convention, rest_value, redshift, radial_velocity, bin_specification, **kwargs)\u001b[0m\n\u001b[1;32m     97\u001b[0m         \u001b[0;32mif\u001b[0m \u001b[0mflux\u001b[0m \u001b[0;32mis\u001b[0m \u001b[0;32mnot\u001b[0m \u001b[0;32mNone\u001b[0m\u001b[0;34m:\u001b[0m\u001b[0;34m\u001b[0m\u001b[0;34m\u001b[0m\u001b[0m\n\u001b[1;32m     98\u001b[0m             \u001b[0;32mif\u001b[0m \u001b[0;32mnot\u001b[0m \u001b[0misinstance\u001b[0m\u001b[0;34m(\u001b[0m\u001b[0mflux\u001b[0m\u001b[0;34m,\u001b[0m \u001b[0mu\u001b[0m\u001b[0;34m.\u001b[0m\u001b[0mQuantity\u001b[0m\u001b[0;34m)\u001b[0m\u001b[0;34m:\u001b[0m\u001b[0;34m\u001b[0m\u001b[0;34m\u001b[0m\u001b[0m\n\u001b[0;32m---> 99\u001b[0;31m                 \u001b[0;32mraise\u001b[0m \u001b[0mValueError\u001b[0m\u001b[0;34m(\u001b[0m\u001b[0;34m\"Flux must be a `Quantity` object.\"\u001b[0m\u001b[0;34m)\u001b[0m\u001b[0;34m\u001b[0m\u001b[0;34m\u001b[0m\u001b[0m\n\u001b[0m\u001b[1;32m    100\u001b[0m             \u001b[0;32melif\u001b[0m \u001b[0mflux\u001b[0m\u001b[0;34m.\u001b[0m\u001b[0misscalar\u001b[0m\u001b[0;34m:\u001b[0m\u001b[0;34m\u001b[0m\u001b[0;34m\u001b[0m\u001b[0m\n\u001b[1;32m    101\u001b[0m                 \u001b[0mflux\u001b[0m \u001b[0;34m=\u001b[0m \u001b[0mu\u001b[0m\u001b[0;34m.\u001b[0m\u001b[0mQuantity\u001b[0m\u001b[0;34m(\u001b[0m\u001b[0;34m[\u001b[0m\u001b[0mflux\u001b[0m\u001b[0;34m]\u001b[0m\u001b[0;34m)\u001b[0m\u001b[0;34m\u001b[0m\u001b[0;34m\u001b[0m\u001b[0m\n",
      "\u001b[0;31mValueError\u001b[0m: Flux must be a `Quantity` object."
     ]
    }
   ],
   "source": [
    "# Specutils won't take a dataframe.  It requires the data to be in a Spectrum1D object.  OK, let's try\n",
    "s1723_spec = specutils.Spectrum1D(spectral_axis = df_s1723['wave'] * u.AA, flux=df_s1723['fnu'] * u.Unit('Jansky')) "
   ]
  },
  {
   "cell_type": "markdown",
   "metadata": {},
   "source": [
    "Sigh.  This is another case of Astropy refusing Pandas Series instead of accepting them.  \n",
    "Filed a ticket https://github.com/astropy/specutils/issues/740#issuecomment-740190980\n",
    "Until now, here's a kludgy workaround using pandas.Series.values to convert each Series to numpy array"
   ]
  },
  {
   "cell_type": "code",
   "execution_count": 124,
   "metadata": {},
   "outputs": [],
   "source": [
    "s1723_spec = specutils.Spectrum1D(spectral_axis = df_s1723['wave'].values * u.AA, flux=df_s1723['fnu'].values * u.Unit('Jansky'), redshift=zz_1723) "
   ]
  },
  {
   "cell_type": "markdown",
   "metadata": {},
   "source": [
    "How do I get Spectrum1D to save and acccess the rest_fnu (off by (1+z) from the observed_fnu?)\n",
    "Can't figure it out.  Filed yet another ticket. https://github.com/astropy/specutils/issues/741"
   ]
  },
  {
   "cell_type": "code",
   "execution_count": 125,
   "metadata": {},
   "outputs": [
    {
     "name": "stderr",
     "output_type": "stream",
     "text": [
      "WARNING: Model is linear in parameters; consider using linear fitting methods. [astropy.modeling.fitting]\n",
      "WARNING:astropy:Model is linear in parameters; consider using linear fitting methods.\n"
     ]
    },
    {
     "data": {
      "text/plain": [
       "(0.0, 1e-05)"
      ]
     },
     "execution_count": 125,
     "metadata": {},
     "output_type": "execute_result"
    },
    {
     "data": {
      "image/png": "[encoded data removed]",
      "text/plain": [
       "<Figure size 432x288 with 1 Axes>"
      ]
     },
     "metadata": {
      "needs_background": "light"
     },
     "output_type": "display_data"
    }
   ],
   "source": [
    "# Let's try to fit a continuum. The default result is terrible\n",
    "ax = df_s1723.plot(x='wave', y='fnu')\n",
    "cont_s1723 = fit_generic_continuum(s1723_spec, median_window=101)\n",
    "df_s1723['cont'] =  cont_s1723 (df_s1723['wave'].values * u.AA )  \n",
    "# Wow this is kludgy.  Why can't you attach the continuum to the Spectrum1D? Resorting to pandas.\n",
    "df_s1723.plot(x='wave', y='cont', ax=ax)\n",
    "plt.xlim(3000,2E4)\n",
    "plt.ylim(0,1E-5)"
   ]
  },
  {
   "cell_type": "markdown",
   "metadata": {},
   "source": [
    "What a terrible out-of-the-box continuum fit.  Let's figure out how to do better."
   ]
  },
  {
   "cell_type": "code",
   "execution_count": 126,
   "metadata": {},
   "outputs": [],
   "source": [
    "# Let's try auto-identifying the bright lines, and then masking them out.  This should be easy, right?\n",
    "specutils.conf.do_continuum_function_check = False\n",
    "rough_lines = find_lines_derivative(s1723_spec, flux_threshold=1E-6)"
   ]
  },
  {
   "cell_type": "code",
   "execution_count": 127,
   "metadata": {},
   "outputs": [
    {
     "ename": "ValueError",
     "evalue": "The region parameter must be a SpectralRegion object.",
     "output_type": "error",
     "traceback": [
      "\u001b[0;31m---------------------------------------------------------------------------\u001b[0m",
      "\u001b[0;31mValueError\u001b[0m                                Traceback (most recent call last)",
      "\u001b[0;32m<ipython-input-127-f583abb511e6>\u001b[0m in \u001b[0;36m<module>\u001b[0;34m\u001b[0m\n\u001b[0;32m----> 1\u001b[0;31m \u001b[0mcont_s1723_v2\u001b[0m \u001b[0;34m=\u001b[0m \u001b[0mfit_generic_continuum\u001b[0m\u001b[0;34m(\u001b[0m\u001b[0ms1723_spec\u001b[0m\u001b[0;34m,\u001b[0m \u001b[0mexclude_regions\u001b[0m\u001b[0;34m=\u001b[0m\u001b[0mrough_lines\u001b[0m\u001b[0;34m)\u001b[0m\u001b[0;34m\u001b[0m\u001b[0;34m\u001b[0m\u001b[0m\n\u001b[0m",
      "\u001b[0;32m~/anaconda3/envs/astroconda/lib/python3.6/site-packages/specutils/fitting/continuum.py\u001b[0m in \u001b[0;36mfit_generic_continuum\u001b[0;34m(spectrum, median_window, model, fitter, exclude_regions, weights)\u001b[0m\n\u001b[1;32m     57\u001b[0m     \u001b[0;31m#\u001b[0m\u001b[0;34m\u001b[0m\u001b[0;34m\u001b[0m\u001b[0;34m\u001b[0m\u001b[0m\n\u001b[1;32m     58\u001b[0m \u001b[0;34m\u001b[0m\u001b[0m\n\u001b[0;32m---> 59\u001b[0;31m     \u001b[0;32mreturn\u001b[0m \u001b[0mfit_continuum\u001b[0m\u001b[0;34m(\u001b[0m\u001b[0mspectrum_smoothed\u001b[0m\u001b[0;34m,\u001b[0m \u001b[0mmodel\u001b[0m\u001b[0;34m,\u001b[0m \u001b[0mfitter\u001b[0m\u001b[0;34m,\u001b[0m \u001b[0mexclude_regions\u001b[0m\u001b[0;34m,\u001b[0m \u001b[0mweights\u001b[0m\u001b[0;34m)\u001b[0m\u001b[0;34m\u001b[0m\u001b[0;34m\u001b[0m\u001b[0m\n\u001b[0m\u001b[1;32m     60\u001b[0m \u001b[0;34m\u001b[0m\u001b[0m\n\u001b[1;32m     61\u001b[0m \u001b[0;34m\u001b[0m\u001b[0m\n",
      "\u001b[0;32m~/anaconda3/envs/astroconda/lib/python3.6/site-packages/specutils/fitting/continuum.py\u001b[0m in \u001b[0;36mfit_continuum\u001b[0;34m(spectrum, model, fitter, exclude_regions, window, weights)\u001b[0m\n\u001b[1;32m    102\u001b[0m \u001b[0;34m\u001b[0m\u001b[0m\n\u001b[1;32m    103\u001b[0m     continuum_spectrum = fit_lines(spectrum, model, fitter, exclude_regions,\n\u001b[0;32m--> 104\u001b[0;31m                                    weights, w)\n\u001b[0m\u001b[1;32m    105\u001b[0m \u001b[0;34m\u001b[0m\u001b[0m\n\u001b[1;32m    106\u001b[0m     \u001b[0;32mreturn\u001b[0m \u001b[0mcontinuum_spectrum\u001b[0m\u001b[0;34m\u001b[0m\u001b[0;34m\u001b[0m\u001b[0m\n",
      "\u001b[0;32m~/anaconda3/envs/astroconda/lib/python3.6/site-packages/specutils/fitting/fitmodels.py\u001b[0m in \u001b[0;36mfit_lines\u001b[0;34m(spectrum, model, fitter, exclude_regions, weights, window, **kwargs)\u001b[0m\n\u001b[1;32m    317\u001b[0m \u001b[0;34m\u001b[0m\u001b[0m\n\u001b[1;32m    318\u001b[0m     \u001b[0;32mif\u001b[0m \u001b[0mexclude_regions\u001b[0m \u001b[0;32mis\u001b[0m \u001b[0;32mnot\u001b[0m \u001b[0;32mNone\u001b[0m\u001b[0;34m:\u001b[0m\u001b[0;34m\u001b[0m\u001b[0;34m\u001b[0m\u001b[0m\n\u001b[0;32m--> 319\u001b[0;31m         \u001b[0mspectrum\u001b[0m \u001b[0;34m=\u001b[0m \u001b[0mexcise_regions\u001b[0m\u001b[0;34m(\u001b[0m\u001b[0mspectrum\u001b[0m\u001b[0;34m,\u001b[0m \u001b[0mexclude_regions\u001b[0m\u001b[0;34m)\u001b[0m\u001b[0;34m\u001b[0m\u001b[0;34m\u001b[0m\u001b[0m\n\u001b[0m\u001b[1;32m    320\u001b[0m \u001b[0;34m\u001b[0m\u001b[0m\n\u001b[1;32m    321\u001b[0m     \u001b[0;31m#\u001b[0m\u001b[0;34m\u001b[0m\u001b[0;34m\u001b[0m\u001b[0;34m\u001b[0m\u001b[0m\n",
      "\u001b[0;32m~/anaconda3/envs/astroconda/lib/python3.6/site-packages/specutils/manipulation/utils.py\u001b[0m in \u001b[0;36mexcise_regions\u001b[0;34m(spectrum, regions, exciser)\u001b[0m\n\u001b[1;32m    189\u001b[0m \u001b[0;34m\u001b[0m\u001b[0m\n\u001b[1;32m    190\u001b[0m     \u001b[0;32mfor\u001b[0m \u001b[0mregion\u001b[0m \u001b[0;32min\u001b[0m \u001b[0mregions\u001b[0m\u001b[0;34m:\u001b[0m\u001b[0;34m\u001b[0m\u001b[0;34m\u001b[0m\u001b[0m\n\u001b[0;32m--> 191\u001b[0;31m         \u001b[0mspectrum\u001b[0m \u001b[0;34m=\u001b[0m \u001b[0mexcise_region\u001b[0m\u001b[0;34m(\u001b[0m\u001b[0mspectrum\u001b[0m\u001b[0;34m,\u001b[0m \u001b[0mregion\u001b[0m\u001b[0;34m,\u001b[0m \u001b[0mexciser\u001b[0m\u001b[0;34m)\u001b[0m\u001b[0;34m\u001b[0m\u001b[0;34m\u001b[0m\u001b[0m\n\u001b[0m\u001b[1;32m    192\u001b[0m \u001b[0;34m\u001b[0m\u001b[0m\n\u001b[1;32m    193\u001b[0m     \u001b[0;32mreturn\u001b[0m \u001b[0mspectrum\u001b[0m\u001b[0;34m\u001b[0m\u001b[0;34m\u001b[0m\u001b[0m\n",
      "\u001b[0;32m~/anaconda3/envs/astroconda/lib/python3.6/site-packages/specutils/manipulation/utils.py\u001b[0m in \u001b[0;36mexcise_region\u001b[0;34m(spectrum, region, exciser)\u001b[0m\n\u001b[1;32m    233\u001b[0m \u001b[0;34m\u001b[0m\u001b[0m\n\u001b[1;32m    234\u001b[0m     \u001b[0;32mif\u001b[0m \u001b[0;32mnot\u001b[0m \u001b[0misinstance\u001b[0m\u001b[0;34m(\u001b[0m\u001b[0mregion\u001b[0m\u001b[0;34m,\u001b[0m \u001b[0mSpectralRegion\u001b[0m\u001b[0;34m)\u001b[0m\u001b[0;34m:\u001b[0m\u001b[0;34m\u001b[0m\u001b[0;34m\u001b[0m\u001b[0m\n\u001b[0;32m--> 235\u001b[0;31m         \u001b[0;32mraise\u001b[0m \u001b[0mValueError\u001b[0m\u001b[0;34m(\u001b[0m\u001b[0;34m'The region parameter must be a SpectralRegion object.'\u001b[0m\u001b[0;34m)\u001b[0m\u001b[0;34m\u001b[0m\u001b[0;34m\u001b[0m\u001b[0m\n\u001b[0m\u001b[1;32m    236\u001b[0m \u001b[0;34m\u001b[0m\u001b[0m\n\u001b[1;32m    237\u001b[0m     \u001b[0;31m#\u001b[0m\u001b[0;34m\u001b[0m\u001b[0;34m\u001b[0m\u001b[0;34m\u001b[0m\u001b[0m\n",
      "\u001b[0;31mValueError\u001b[0m: The region parameter must be a SpectralRegion object."
     ]
    }
   ],
   "source": [
    "cont_s1723_v2 = fit_generic_continuum(s1723_spec, exclude_regions=rough_lines)"
   ]
  },
  {
   "cell_type": "markdown",
   "metadata": {},
   "source": [
    "Oh, darn it.  The output of find_lines_derivative() isn't readable by fit_continuum, and there appears to be no conversion tool. So, I don't see any built-in way to exclude features when fitting the contnuum. This part of specutils does not appear to be ready for real-world science application."
   ]
  },
  {
   "cell_type": "code",
   "execution_count": 129,
   "metadata": {},
   "outputs": [
    {
     "data": {
      "text/plain": [
       "[(2797.65, 2817.65), (8678.011033, 8698.011033), (9005.228311, 9025.228311)]"
      ]
     },
     "execution_count": 129,
     "metadata": {},
     "output_type": "execute_result"
    }
   ],
   "source": [
    "win = 10 # Angstroms\n",
    "foos = rough_lines['line_center'][0:3]\n",
    "temp = [(x - win, x + win)  for x in foos.value] # again, have to use value to stop Astropy Quantity from throwing Error\n",
    "temp"
   ]
  },
  {
   "cell_type": "code",
   "execution_count": 131,
   "metadata": {},
   "outputs": [
    {
     "ename": "ValueError",
     "evalue": "SpectralRegion input must be a 2-tuple or a list of 2-tuples.",
     "output_type": "error",
     "traceback": [
      "\u001b[0;31m---------------------------------------------------------------------------\u001b[0m",
      "\u001b[0;31mValueError\u001b[0m                                Traceback (most recent call last)",
      "\u001b[0;32m<ipython-input-131-e420bbdb9e09>\u001b[0m in \u001b[0;36m<module>\u001b[0;34m\u001b[0m\n\u001b[1;32m      1\u001b[0m \u001b[0;31m# So temp looks like a list of tuples.  Will SpectralRegion accept it?  No\u001b[0m\u001b[0;34m\u001b[0m\u001b[0;34m\u001b[0m\u001b[0;34m\u001b[0m\u001b[0m\n\u001b[1;32m      2\u001b[0m \u001b[0;32mfrom\u001b[0m \u001b[0mspecutils\u001b[0m\u001b[0;34m.\u001b[0m\u001b[0mspectra\u001b[0m \u001b[0;32mimport\u001b[0m \u001b[0mSpectralRegion\u001b[0m\u001b[0;34m\u001b[0m\u001b[0;34m\u001b[0m\u001b[0m\n\u001b[0;32m----> 3\u001b[0;31m \u001b[0mSpectralRegion\u001b[0m\u001b[0;34m(\u001b[0m\u001b[0;34m(\u001b[0m\u001b[0mtemp\u001b[0m\u001b[0;34m)\u001b[0m\u001b[0;34m)\u001b[0m\u001b[0;34m\u001b[0m\u001b[0;34m\u001b[0m\u001b[0m\n\u001b[0m",
      "\u001b[0;32m~/anaconda3/envs/astroconda/lib/python3.6/site-packages/specutils/spectra/spectral_region.py\u001b[0m in \u001b[0;36m__init__\u001b[0;34m(self, *args)\u001b[0m\n\u001b[1;32m     71\u001b[0m             \u001b[0mself\u001b[0m\u001b[0;34m.\u001b[0m\u001b[0m_subregions\u001b[0m \u001b[0;34m=\u001b[0m \u001b[0;34m[\u001b[0m\u001b[0mtuple\u001b[0m\u001b[0;34m(\u001b[0m\u001b[0mx\u001b[0m\u001b[0;34m)\u001b[0m \u001b[0;32mfor\u001b[0m \u001b[0mx\u001b[0m \u001b[0;32min\u001b[0m \u001b[0margs\u001b[0m\u001b[0;34m[\u001b[0m\u001b[0;36m0\u001b[0m\u001b[0;34m]\u001b[0m\u001b[0;34m]\u001b[0m\u001b[0;34m\u001b[0m\u001b[0;34m\u001b[0m\u001b[0m\n\u001b[1;32m     72\u001b[0m         \u001b[0;32melse\u001b[0m\u001b[0;34m:\u001b[0m\u001b[0;34m\u001b[0m\u001b[0;34m\u001b[0m\u001b[0m\n\u001b[0;32m---> 73\u001b[0;31m             \u001b[0;32mraise\u001b[0m \u001b[0mValueError\u001b[0m\u001b[0;34m(\u001b[0m\u001b[0;34m'SpectralRegion input must be a 2-tuple or a list of 2-tuples.'\u001b[0m\u001b[0;34m)\u001b[0m\u001b[0;34m\u001b[0m\u001b[0;34m\u001b[0m\u001b[0m\n\u001b[0m\u001b[1;32m     74\u001b[0m \u001b[0;34m\u001b[0m\u001b[0m\n\u001b[1;32m     75\u001b[0m         \u001b[0;31m#\u001b[0m\u001b[0;34m\u001b[0m\u001b[0;34m\u001b[0m\u001b[0;34m\u001b[0m\u001b[0m\n",
      "\u001b[0;31mValueError\u001b[0m: SpectralRegion input must be a 2-tuple or a list of 2-tuples."
     ]
    }
   ],
   "source": [
    "# So temp looks like a list of tuples.  Will SpectralRegion accept it?  No\n",
    "from specutils.spectra import SpectralRegion\n",
    "SpectralRegion((temp))"
   ]
  },
  {
   "cell_type": "code",
   "execution_count": 134,
   "metadata": {},
   "outputs": [
    {
     "data": {
      "text/plain": [
       "[(2797.65, 2817.65), (8678.011033, 8698.011033), (9005.228311, 9025.228311)]"
      ]
     },
     "execution_count": 134,
     "metadata": {},
     "output_type": "execute_result"
    }
   ],
   "source": [
    "temp[0:3]"
   ]
  },
  {
   "cell_type": "markdown",
   "metadata": {},
   "source": [
    "Wow, that looks like a list of 2-tuples to me!  Why is temp not acceptable?"
   ]
  },
  {
   "cell_type": "code",
   "execution_count": 135,
   "metadata": {},
   "outputs": [
    {
     "data": {
      "text/plain": [
       "[(<Quantity 0.45 um>, <Quantity 0.6 um>),\n",
       " (<Quantity 0.8 um>, <Quantity 0.9 um>)]"
      ]
     },
     "execution_count": 135,
     "metadata": {},
     "output_type": "execute_result"
    }
   ],
   "source": [
    "# This works, from the documentation for SpectralRegion.  So what's different?  Units?\n",
    "[(0.45*u.um, 0.6*u.um), (0.8*u.um, 0.9*u.um)]"
   ]
  },
  {
   "cell_type": "code",
   "execution_count": 136,
   "metadata": {},
   "outputs": [
    {
     "data": {
      "text/plain": [
       "[(<Quantity 2797.65 Angstrom>, <Quantity 2817.65 Angstrom>),\n",
       " (<Quantity 8678.011033 Angstrom>, <Quantity 8698.011033 Angstrom>),\n",
       " (<Quantity 9005.228311 Angstrom>, <Quantity 9025.228311 Angstrom>)]"
      ]
     },
     "execution_count": 136,
     "metadata": {},
     "output_type": "execute_result"
    }
   ],
   "source": [
    "# Ah! SpectralRegion secretly demands that these be Quantities, not floats, even though the docs don't say so\n",
    "win = 10 # Angstroms\n",
    "foos = rough_lines['line_center'][0:3]\n",
    "temp = [((x - win) * u.AA, (x + win)* u.AA)  for x in foos.value] # again, have to use value to stop Astropy Quantity from throwing Error\n",
    "temp"
   ]
  },
  {
   "cell_type": "code",
   "execution_count": null,
   "metadata": {},
   "outputs": [],
   "source": [
    "SpectralRegion((temp))"
   ]
  },
  {
   "cell_type": "markdown",
   "metadata": {},
   "source": [
    "So the error message was just plain wrong.  The problem is NOT that \"SpectralRegion input must be a 2-tuple or a list of 2-tuples\", but that the input was a list of 2-tuples that weren't Quantities.  This philosopy of Astropy is going to trip up folks like me who are good at Python, but don't use Astropy much"
   ]
  },
  {
   "cell_type": "code",
   "execution_count": 202,
   "metadata": {},
   "outputs": [],
   "source": [
    "#Let's make an example conversion function.  Spectools needs this -- it's a common use case\n",
    "def convert_lines_to_spectralregions(linelist, window=10., unit=u.AA) :\n",
    "    temp =  [((x - window) * u.AA, (x + window)* u.AA)  for x in linelist['line_center'].value] # must be Quantities\n",
    "    return (SpectralRegion(temp))"
   ]
  },
  {
   "cell_type": "code",
   "execution_count": 206,
   "metadata": {},
   "outputs": [],
   "source": [
    "mask_emiss_lines = convert_lines_to_spectralregions(rough_lines, window=30)"
   ]
  },
  {
   "cell_type": "code",
   "execution_count": 207,
   "metadata": {},
   "outputs": [
    {
     "name": "stderr",
     "output_type": "stream",
     "text": [
      "WARNING: Model is linear in parameters; consider using linear fitting methods. [astropy.modeling.fitting]\n",
      "WARNING:astropy:Model is linear in parameters; consider using linear fitting methods.\n"
     ]
    }
   ],
   "source": [
    "cont_s1723_v3 = fit_generic_continuum(s1723_spec, exclude_regions=mask_emiss_lines)"
   ]
  },
  {
   "cell_type": "code",
   "execution_count": 212,
   "metadata": {},
   "outputs": [
    {
     "data": {
      "image/png": "[encoded data removed]",
      "text/plain": [
       "<Figure size 432x288 with 1 Axes>"
      ]
     },
     "metadata": {
      "needs_background": "light"
     },
     "output_type": "display_data"
    }
   ],
   "source": [
    "ax = df_s1723.plot(x='wave', y='fnu')\n",
    "df_s1723['cont_v3'] =  cont_s1723_v3 (df_s1723['wave'].values * u.AA )  # Wow this is kludgy\n",
    "df_s1723.plot(x='wave', y='cont_v3', ax=ax)\n",
    "plt.xlim(10000,1.2E4)\n",
    "plt.ylim(0,1E-5)\n",
    "# SpectralRegions needs a method that marks the edges of the regions on plots.  Here's a kludgy start\n",
    "for thisline in mask_emiss_lines:\n",
    "    plt.plot(thisline[0].lower.value, 0.0, marker='o', color='b')\n",
    "    plt.plot(thisline[0].upper.value, 0.0, marker='o', color='r')"
   ]
  },
  {
   "cell_type": "markdown",
   "metadata": {},
   "source": [
    "So, I'm stuck.  I've spent a day on this.   I cannot get the default continuum-fitting to work, even after identifying emission lines and excluding them from the fit."
   ]
  },
  {
   "cell_type": "code",
   "execution_count": 215,
   "metadata": {},
   "outputs": [
    {
     "data": {
      "text/plain": [
       "<QuantityModel Chebyshev1D(3, c0=0.00000337, c1=0., c2=-0., c3=0.), input_units=Angstrom, return_units=Jy>"
      ]
     },
     "execution_count": 215,
     "metadata": {},
     "output_type": "execute_result"
    }
   ],
   "source": [
    "cont_s1723_v3"
   ]
  },
  {
   "cell_type": "code",
   "execution_count": null,
   "metadata": {},
   "outputs": [],
   "source": []
  }
 ],
 "metadata": {
  "kernelspec": {
   "display_name": "Python 3",
   "language": "python",
   "name": "python3"
  },
  "language_info": {
   "codemirror_mode": {
    "name": "ipython",
    "version": 3
   },
   "file_extension": ".py",
   "mimetype": "text/x-python",
   "name": "python",
   "nbconvert_exporter": "python",
   "pygments_lexer": "ipython3",
   "version": "3.6.11"
  }
 },
 "nbformat": 4,
 "nbformat_minor": 4
}
