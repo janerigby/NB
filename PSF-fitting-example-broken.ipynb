{
 "cells": [
  {
   "cell_type": "markdown",
   "id": "84a12384",
   "metadata": {},
   "source": [
    "Simple 2D gaussian fitting of a PSF is not working well, at all.  Splitting this\n",
    "out from where I'm seeing the problem, in Sunburst_measure_line_ratios.ipynb, to its own section, so I can ask for help.  -jrigby, oct 2021"
   ]
  },
  {
   "cell_type": "code",
   "execution_count": 180,
   "id": "096f1bcf",
   "metadata": {},
   "outputs": [],
   "source": [
    "import jrr\n",
    "import numpy as np\n",
    "from astropy.io import fits\n",
    "from astropy.modeling import models, fitting\n",
    "from astropy.stats import gaussian_fwhm_to_sigma\n",
    "import matplotlib.pyplot as plt"
   ]
  },
  {
   "cell_type": "code",
   "execution_count": 181,
   "id": "c828abd0",
   "metadata": {},
   "outputs": [],
   "source": [
    "def sigmainpix_2_fwhm_inpix(sigma) :\n",
    "    return(   np.round((sigma / gaussian_fwhm_to_sigma), 3))"
   ]
  },
  {
   "cell_type": "code",
   "execution_count": 182,
   "id": "34f4375d",
   "metadata": {},
   "outputs": [],
   "source": [
    "# Benchmark is still iraf imexam. From Iraf imexam running on asdwebdev-sl.gsfc.nasa.gov:\n",
    "# Iraf imexam fitting:                  PSF FWHM (pixels)\n",
    "# Sunburst_F160Wv4_largePSF.fits (_v2)   4.8\n",
    "# Michael's iraf agrees w mine.  So, need to figure out why fitting below is so broken."
   ]
  },
  {
   "cell_type": "code",
   "execution_count": 183,
   "id": "718a3fad",
   "metadata": {},
   "outputs": [
    {
     "name": "stdout",
     "output_type": "stream",
     "text": [
      "The data\n"
     ]
    },
    {
     "data": {
      "image/png": "[encoded data removed]",
      "text/plain": [
       "<Figure size 432x288 with 1 Axes>"
      ]
     },
     "metadata": {
      "needs_background": "light"
     },
     "output_type": "display_data"
    }
   ],
   "source": [
    "scaleit = 1E6  # maybe fitter is having numerical issues?\n",
    "# Empirical PSF from Michael Florian, from drizzled data products, F160W PSF, from 10--12 stars\n",
    "psf_file = 'Example_data/Sunburst_F160Wv4_largePSF.fits.gz'\n",
    "psf_data, psf_header   = fits.getdata(psf_file,  header=True)\n",
    "# https://stackoverflow.com/questions/55883497/how-do-you-extract-a-point-spread-function-from-a-fits-image\n",
    "ysize, xsize = psf_data.shape  # Coax astropy.modeling.fitting into handling 2D\n",
    "plt.imshow(psf_data)\n",
    "print(\"The data\")"
   ]
  },
  {
   "cell_type": "code",
   "execution_count": 185,
   "id": "57be031b",
   "metadata": {},
   "outputs": [
    {
     "data": {
      "text/plain": [
       "(61, 61)"
      ]
     },
     "execution_count": 185,
     "metadata": {},
     "output_type": "execute_result"
    }
   ],
   "source": [
    "# What if fit is terrible b/c no weights are used, so it's weighting blank space more than signal?\n",
    "xsize, ysize"
   ]
  },
  {
   "cell_type": "code",
   "execution_count": 186,
   "id": "ca2f40c3",
   "metadata": {},
   "outputs": [
    {
     "name": "stdout",
     "output_type": "stream",
     "text": [
      "uncertainty map\n"
     ]
    },
    {
     "data": {
      "image/png": "[encoded data removed]",
      "text/plain": [
       "<Figure size 432x288 with 1 Axes>"
      ]
     },
     "metadata": {
      "needs_background": "light"
     },
     "output_type": "display_data"
    }
   ],
   "source": [
    "y, x, = np.mgrid[:ysize, :xsize]\n",
    "f_init = models.Gaussian2D(0.1 * scaleit, 30., 30., 1.5, 1.5, 0.0) + models.Const2D(25)\n",
    "fit_f = fitting.LevMarLSQFitter()\n",
    "psf_unc = np.sqrt(psf_data * scaleit + 1E-9)\n",
    "plt.imshow(psf_unc)\n",
    "print(\"uncertainty map\")"
   ]
  },
  {
   "cell_type": "code",
   "execution_count": 195,
   "id": "65480151",
   "metadata": {},
   "outputs": [
    {
     "data": {
      "text/plain": [
       "(13769.502, 117.34352, 2.6443367)"
      ]
     },
     "execution_count": 195,
     "metadata": {},
     "output_type": "execute_result"
    }
   ],
   "source": [
    "np.max(psf_data * scaleit), np.max(psf_unc), np.min(psf_unc)"
   ]
  },
  {
   "cell_type": "code",
   "execution_count": 187,
   "id": "4e9812f1",
   "metadata": {},
   "outputs": [
    {
     "name": "stdout",
     "output_type": "stream",
     "text": [
      "The initialization of the fit\n"
     ]
    },
    {
     "data": {
      "image/png": "[encoded data removed]",
      "text/plain": [
       "<Figure size 432x288 with 1 Axes>"
      ]
     },
     "metadata": {
      "needs_background": "light"
     },
     "output_type": "display_data"
    }
   ],
   "source": [
    "\n",
    "f = fit_f(f_init, x, y, psf_data * scaleit, weights=1/psf_unc, maxiter=200000)\n",
    "plt.imshow(f_init(x,y))\n",
    "print(\"The initialization of the fit\")"
   ]
  },
  {
   "cell_type": "code",
   "execution_count": 188,
   "id": "fde1ca77",
   "metadata": {},
   "outputs": [
    {
     "name": "stdout",
     "output_type": "stream",
     "text": [
      "This fit is terrible! What's wrong?\n"
     ]
    },
    {
     "data": {
      "image/png": "[encoded data removed]",
      "text/plain": [
       "<Figure size 432x288 with 1 Axes>"
      ]
     },
     "metadata": {
      "needs_background": "light"
     },
     "output_type": "display_data"
    }
   ],
   "source": [
    "plt.imshow(f(x,y))  \n",
    "print(\"This fit is terrible! What's wrong?\")"
   ]
  },
  {
   "cell_type": "code",
   "execution_count": 189,
   "id": "c8e5ae9e",
   "metadata": {},
   "outputs": [
    {
     "name": "stdout",
     "output_type": "stream",
     "text": [
      "Model: CompoundModel\n",
      "Inputs: ('x', 'y')\n",
      "Outputs: ('z',)\n",
      "Model set size: 1\n",
      "Expression: [0] + [1]\n",
      "Components: \n",
      "    [0]: <Gaussian2D(amplitude=6680.8221601, x_mean=30.0019998, y_mean=29.98817115, x_stddev=4.5102292, y_stddev=4.35562131, theta=-6.68571788)>\n",
      "\n",
      "    [1]: <Const2D(amplitude=24.37424051)>\n",
      "Parameters:\n",
      "       amplitude_0         x_mean_0           y_mean_0         x_stddev_0         y_stddev_0          theta_0          amplitude_1    \n",
      "    ----------------- ------------------ ----------------- ------------------ ------------------ ------------------ ------------------\n",
      "    6680.822160103763 30.001999804744713 29.98817114644597 4.5102291974503625 4.3556213096421015 -6.685717875921048 24.374240509258108\n",
      "PSF stddev: [4.51  4.356] pixels in x, y\n",
      "This is 10.621 10.257 pix FWHM\n",
      "This is much bigger than what iraf imexam gets: 4.8 pix FWHM.\n",
      "And this fit looks terrible!\n"
     ]
    }
   ],
   "source": [
    "print(f)\n",
    "size = [f[0].x_stddev.value,  f[0].y_stddev.value]\n",
    "print(\"PSF stddev:\", np.round(size, 3), \"pixels in x, y\") \n",
    "print(\"This is\", sigmainpix_2_fwhm_inpix(size[0]), sigmainpix_2_fwhm_inpix(size[1]), \"pix FWHM\") \n",
    "print(\"This is much bigger than what iraf imexam gets: 4.8 pix FWHM.\")\n",
    "print(\"And this fit looks terrible!\")"
   ]
  },
  {
   "cell_type": "code",
   "execution_count": 190,
   "id": "db6051e8",
   "metadata": {},
   "outputs": [
    {
     "data": {
      "text/plain": [
       "0.42466090014400953"
      ]
     },
     "execution_count": 190,
     "metadata": {},
     "output_type": "execute_result"
    }
   ],
   "source": [
    "gaussian_fwhm_to_sigma"
   ]
  },
  {
   "cell_type": "code",
   "execution_count": 191,
   "id": "8e4ba8fb",
   "metadata": {},
   "outputs": [
    {
     "data": {
      "text/plain": [
       "<matplotlib.legend.Legend at 0x7f85586d2f50>"
      ]
     },
     "execution_count": 191,
     "metadata": {},
     "output_type": "execute_result"
    },
    {
     "data": {
      "image/png": "[encoded data removed]",
      "text/plain": [
       "<Figure size 432x288 with 1 Axes>"
      ]
     },
     "metadata": {
      "needs_background": "light"
     },
     "output_type": "display_data"
    }
   ],
   "source": [
    "whichrow = 30\n",
    "plt.plot(psf_data[whichrow,] *scaleit, marker='o', label='The data, sliced', ls='')\n",
    "plt.plot(f(x,y)[whichrow,], ls='-', label='the terrible fit, sliced')\n",
    "plt.legend()"
   ]
  },
  {
   "cell_type": "code",
   "execution_count": 192,
   "id": "f5c35d2f",
   "metadata": {},
   "outputs": [
    {
     "name": "stdout",
     "output_type": "stream",
     "text": [
      "fit_method =  {'nfev': 73, 'fvec': array([6.56192961, 5.9844786 , 6.02918271, ..., 5.97480238, 5.93893075,\n",
      "       6.52365489]), 'fjac': array([[-3.28679567e+02,  0.00000000e+00,  0.00000000e+00, ...,\n",
      "         0.00000000e+00,  0.00000000e+00,  0.00000000e+00],\n",
      "       [-1.01623718e+02, -3.01804127e+02,  0.00000000e+00, ...,\n",
      "         0.00000000e+00,  0.00000000e+00,  0.00000000e+00],\n",
      "       [-5.29478260e+00,  8.60194668e+00, -2.02046427e+02, ...,\n",
      "         0.00000000e+00,  0.00000000e+00,  0.00000000e+00],\n",
      "       ...,\n",
      "       [ 8.98059995e-01, -1.36165217e+00, -4.02746981e+00, ...,\n",
      "         0.00000000e+00,  0.00000000e+00,  0.00000000e+00],\n",
      "       [-1.14176668e+00, -8.38103852e-01,  9.67869377e-03, ...,\n",
      "         3.20708282e-02,  3.19712224e-02,  3.36130754e-02],\n",
      "       [-8.20510081e-02, -5.85869226e-02, -4.00164427e-04, ...,\n",
      "         1.59570605e-03,  1.59075009e-03,  1.67244162e-03]]), 'ipvt': array([5, 4, 3, 2, 6, 7, 1], dtype=int32), 'qtf': array([ 0.01228114,  0.00752434,  0.001594  , -0.00296961, -0.00319142,\n",
      "       -0.00181225, -0.01637608]), 'message': 'Both actual and predicted relative reductions in the sum of squares\\n  are at most 0.000000', 'ierr': 1, 'param_jac': None, 'param_cov': array([[ 1.97170540e+05,  1.23277061e+00, -4.24746385e-01,\n",
      "        -3.84821644e+01, -3.76236788e+01,  5.13971186e-01,\n",
      "         8.02424164e+01],\n",
      "       [ 1.23277061e+00,  4.04459563e-02, -1.03503317e-03,\n",
      "         6.98382284e-04, -1.47730717e-03,  5.98318276e-03,\n",
      "        -4.86172192e-05],\n",
      "       [-4.24746385e-01, -1.03503317e-03,  3.86347589e-02,\n",
      "         1.20222319e-03, -8.91421543e-04, -9.99524184e-03,\n",
      "         3.76408044e-04],\n",
      "       [-3.84821644e+01,  6.98382284e-04,  1.20222319e-03,\n",
      "         2.48878704e-02,  2.04337130e-03, -2.47830586e-03,\n",
      "        -5.03637499e-02],\n",
      "       [-3.76236788e+01, -1.47730717e-03, -8.91421543e-04,\n",
      "         2.04337130e-03,  2.34979542e-02,  1.99297077e-03,\n",
      "        -4.79647769e-02],\n",
      "       [ 5.13971186e-01,  5.98318276e-03, -9.99524184e-03,\n",
      "        -2.47830586e-03,  1.99297077e-03,  4.94611033e-01,\n",
      "         3.29859806e-03],\n",
      "       [ 8.02424164e+01, -4.86172192e-05,  3.76408044e-04,\n",
      "        -5.03637499e-02, -4.79647769e-02,  3.29859806e-03,\n",
      "         1.25249598e+01]]), 'cov_x': array([[ 1.25742127e+02,  7.86178294e-04, -2.70874716e-04,\n",
      "        -2.45413398e-02, -2.39938553e-02,  3.27776301e-04,\n",
      "         5.11732237e-02],\n",
      "       [ 7.86178294e-04,  2.57937143e-05, -6.60074640e-07,\n",
      "         4.45381314e-07, -9.42127288e-07,  3.81567210e-06,\n",
      "        -3.10047970e-08],\n",
      "       [-2.70874716e-04, -6.60074640e-07,  2.46386543e-05,\n",
      "         7.66697201e-07, -5.68488788e-07, -6.37429391e-06,\n",
      "         2.40047769e-07],\n",
      "       [-2.45413398e-02,  4.45381314e-07,  7.66697201e-07,\n",
      "         1.58718122e-05,  1.30312497e-06, -1.58049702e-06,\n",
      "        -3.21186170e-05],\n",
      "       [-2.39938553e-02, -9.42127288e-07, -5.68488788e-07,\n",
      "         1.30312497e-06,  1.49854169e-05,  1.27098290e-06,\n",
      "        -3.05887131e-05],\n",
      "       [ 3.27776301e-04,  3.81567210e-06, -6.37429391e-06,\n",
      "        -1.58049702e-06,  1.27098290e-06,  3.15429696e-04,\n",
      "         2.10362429e-06],\n",
      "       [ 5.11732237e-02, -3.10047970e-08,  2.40047769e-07,\n",
      "        -3.21186170e-05, -3.05887131e-05,  2.10362429e-06,\n",
      "         7.98757810e-03]])}\n"
     ]
    }
   ],
   "source": [
    "print('fit_method = ', fit_f.fit_info)"
   ]
  },
  {
   "cell_type": "code",
   "execution_count": null,
   "id": "85d198fc",
   "metadata": {},
   "outputs": [],
   "source": []
  }
 ],
 "metadata": {
  "kernelspec": {
   "display_name": "Python 3 (ipykernel)",
   "language": "python",
   "name": "python3"
  },
  "language_info": {
   "codemirror_mode": {
    "name": "ipython",
    "version": 3
   },
   "file_extension": ".py",
   "mimetype": "text/x-python",
   "name": "python",
   "nbconvert_exporter": "python",
   "pygments_lexer": "ipython3",
   "version": "3.7.9"
  }
 },
 "nbformat": 4,
 "nbformat_minor": 5
}
