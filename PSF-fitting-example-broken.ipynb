{
 "cells": [
  {
   "cell_type": "markdown",
   "id": "84a12384",
   "metadata": {},
   "source": [
    "Simple 2D gaussian fitting of a PSF is not working well, at all.  Splitting this\n",
    "out from where I'm seeing the problem, in Sunburst_measure_line_ratios.ipynb, to its own section, so I can ask for help.  -jrigby, oct 2021"
   ]
  },
  {
   "cell_type": "code",
   "execution_count": 1,
   "id": "096f1bcf",
   "metadata": {},
   "outputs": [],
   "source": [
    "import jrr\n",
    "import numpy as np\n",
    "from astropy.io import fits\n",
    "from astropy.modeling import models, fitting\n",
    "from astropy.stats import gaussian_fwhm_to_sigma\n",
    "import matplotlib.pyplot as plt"
   ]
  },
  {
   "cell_type": "code",
   "execution_count": 2,
   "id": "c828abd0",
   "metadata": {},
   "outputs": [],
   "source": [
    "def sigmainpix_2_fwhm_inpix(sigma) :\n",
    "    return(   np.round((sigma / gaussian_fwhm_to_sigma), 3))"
   ]
  },
  {
   "cell_type": "code",
   "execution_count": 3,
   "id": "34f4375d",
   "metadata": {},
   "outputs": [],
   "source": [
    "# Benchmark is still iraf imexam. From Iraf imexam running on asdwebdev-sl.gsfc.nasa.gov:\n",
    "# Iraf imexam fitting:                  PSF FWHM (pixels)\n",
    "# Sunburst_F160Wv4_largePSF.fits (_v2)   4.8\n",
    "# Michael's iraf agrees w mine.  So, need to figure out why fitting below is so broken."
   ]
  },
  {
   "cell_type": "code",
   "execution_count": 4,
   "id": "718a3fad",
   "metadata": {},
   "outputs": [
    {
     "name": "stdout",
     "output_type": "stream",
     "text": [
      "The data\n"
     ]
    },
    {
     "data": {
      "image/png": "[encoded data removed]",
      "text/plain": [
       "<Figure size 432x288 with 1 Axes>"
      ]
     },
     "metadata": {
      "needs_background": "light"
     },
     "output_type": "display_data"
    }
   ],
   "source": [
    "scaleit = 1000.  # maybe fitter is having numerical issues?\n",
    "# Empirical PSF from Michael Florian, from drizzled data products, F160W PSF, from 10--12 stars\n",
    "psf_file = 'Example_data/Sunburst_F160Wv4_largePSF.fits.gz'\n",
    "psf_data, psf_header   = fits.getdata(psf_file,  header=True)\n",
    "# https://stackoverflow.com/questions/55883497/how-do-you-extract-a-point-spread-function-from-a-fits-image\n",
    "ysize, xsize = psf_data.shape  # Coax astropy.modeling.fitting into handling 2D\n",
    "plt.imshow(psf_data)\n",
    "print(\"The data\")"
   ]
  },
  {
   "cell_type": "code",
   "execution_count": 5,
   "id": "4e9812f1",
   "metadata": {},
   "outputs": [
    {
     "name": "stdout",
     "output_type": "stream",
     "text": [
      "The initialization of the fit\n"
     ]
    },
    {
     "data": {
      "image/png": "[encoded data removed]",
      "text/plain": [
       "<Figure size 432x288 with 1 Axes>"
      ]
     },
     "metadata": {
      "needs_background": "light"
     },
     "output_type": "display_data"
    }
   ],
   "source": [
    "y, x, = np.mgrid[:ysize, :xsize]\n",
    "f_init = models.Gaussian2D(0.1 * scaleit, 30., 30., 1.5, 1.5, 0.0)\n",
    "fit_f = fitting.LevMarLSQFitter()\n",
    "f = fit_f(f_init, x, y, psf_data * scaleit)\n",
    "plt.imshow(f_init(x,y))\n",
    "print(\"The initialization of the fit\")"
   ]
  },
  {
   "cell_type": "code",
   "execution_count": 9,
   "id": "fde1ca77",
   "metadata": {},
   "outputs": [
    {
     "name": "stdout",
     "output_type": "stream",
     "text": [
      "This fit is terrible! What's wrong?\n"
     ]
    },
    {
     "data": {
      "image/png": "[encoded data removed]",
      "text/plain": [
       "<Figure size 432x288 with 1 Axes>"
      ]
     },
     "metadata": {
      "needs_background": "light"
     },
     "output_type": "display_data"
    }
   ],
   "source": [
    "plt.imshow(f(x,y))  \n",
    "print(\"This fit is terrible! What's wrong?\")"
   ]
  },
  {
   "cell_type": "code",
   "execution_count": 10,
   "id": "c8e5ae9e",
   "metadata": {},
   "outputs": [
    {
     "name": "stdout",
     "output_type": "stream",
     "text": [
      "Model: Gaussian2D\n",
      "Inputs: ('x', 'y')\n",
      "Outputs: ('z',)\n",
      "Model set size: 1\n",
      "Parameters:\n",
      "        amplitude           x_mean             y_mean            x_stddev           y_stddev           theta      \n",
      "    ----------------- ------------------ ------------------ ------------------ ----------------- -----------------\n",
      "    9.003560917473276 30.072675360857883 29.987140437766648 3.6181715742968064 3.795016852070611 -5.11176062916929\n",
      "PSF stddev: [3.618 3.795] pixels in x, y\n",
      "This is 8.52 8.937 pix FWHM\n",
      "This is much bigger than what iraf imexam gets: 4.8 pix FWHM.\n",
      "And this fit looks terrible!\n"
     ]
    }
   ],
   "source": [
    "print(f)\n",
    "size = [f.x_stddev.value,  f.y_stddev.value]\n",
    "print(\"PSF stddev:\", np.round(size, 3), \"pixels in x, y\") \n",
    "print(\"This is\", sigmainpix_2_fwhm_inpix(size[0]), sigmainpix_2_fwhm_inpix(size[1]), \"pix FWHM\") \n",
    "print(\"This is much bigger than what iraf imexam gets: 4.8 pix FWHM.\")\n",
    "print(\"And this fit looks terrible!\")"
   ]
  },
  {
   "cell_type": "code",
   "execution_count": 8,
   "id": "db6051e8",
   "metadata": {},
   "outputs": [
    {
     "data": {
      "text/plain": [
       "0.42466090014400953"
      ]
     },
     "execution_count": 8,
     "metadata": {},
     "output_type": "execute_result"
    }
   ],
   "source": [
    "gaussian_fwhm_to_sigma"
   ]
  },
  {
   "cell_type": "code",
   "execution_count": 35,
   "id": "8e4ba8fb",
   "metadata": {},
   "outputs": [
    {
     "data": {
      "text/plain": [
       "<matplotlib.legend.Legend at 0x7fadf866b110>"
      ]
     },
     "execution_count": 35,
     "metadata": {},
     "output_type": "execute_result"
    },
    {
     "data": {
      "image/png": "[encoded data removed]",
      "text/plain": [
       "<Figure size 432x288 with 1 Axes>"
      ]
     },
     "metadata": {
      "needs_background": "light"
     },
     "output_type": "display_data"
    }
   ],
   "source": [
    "whichrow = 30\n",
    "plt.plot(psf_data[whichrow,], marker='o', label='The data, sliced', ls='')\n",
    "plt.plot(f(x,y)[whichrow,] /scaleit, ls='-', label='the terrible fit, sliced')\n",
    "plt.legend()"
   ]
  },
  {
   "cell_type": "code",
   "execution_count": null,
   "id": "f5c35d2f",
   "metadata": {},
   "outputs": [],
   "source": []
  }
 ],
 "metadata": {
  "kernelspec": {
   "display_name": "Python 3 (ipykernel)",
   "language": "python",
   "name": "python3"
  },
  "language_info": {
   "codemirror_mode": {
    "name": "ipython",
    "version": 3
   },
   "file_extension": ".py",
   "mimetype": "text/x-python",
   "name": "python",
   "nbconvert_exporter": "python",
   "pygments_lexer": "ipython3",
   "version": "3.7.9"
  }
 },
 "nbformat": 4,
 "nbformat_minor": 5
}
