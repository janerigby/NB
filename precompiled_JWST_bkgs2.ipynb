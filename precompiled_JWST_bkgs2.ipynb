{
 "cells": [
  {
   "cell_type": "markdown",
   "metadata": {},
   "source": [
    "NB to show how to read STScI's precompiled background estimates for the ETC.  Want to make my own bathtub curves of zody vs time.  \n",
    "To read binary files, following tutorial at http://vislab-ccom.unh.edu/~schwehr/rt/python-binary-files.html"
   ]
  },
  {
   "cell_type": "code",
   "execution_count": 162,
   "metadata": {
    "collapsed": true
   },
   "outputs": [],
   "source": [
    "# File description from email V Laidler 23 March 2017\n",
    "# C structure used to write the stray light binary file.\n",
    "# One record per file.\n",
    "#    typedef struct {\n",
    "#              double pix_ra;\n",
    "#              double pix_dec;\n",
    "#              double pos[3];\n",
    "#              double nonzodi_bg[SL_NWAVE];  // The in-field ism+cib for each pixel.\n",
    "#            } sl_pix;\n",
    "#              Then for every day with the target in the FOR,the following three items are written.\n",
    "#              double day;\n",
    "#              double zodi_bg[SL_NWAVE];  //  The combined in-field zodi for each pixel.\n",
    "#              double stray_light_bg[SL_NWAVE];  //The equivalent in-field background from stray light from zodi, stellar,ism, cib\n",
    "#The wavelength array is the standard one that we converged\n",
    "#on last year, so they are all on the same wavelength array\n",
    "#that is SL_NWAVE = 108 elements long."
   ]
  },
  {
   "cell_type": "code",
   "execution_count": 163,
   "metadata": {
    "collapsed": false
   },
   "outputs": [
    {
     "name": "stdout",
     "output_type": "stream",
     "text": [
      "Populating the interactive namespace from numpy and matplotlib\n"
     ]
    }
   ],
   "source": [
    "import struct\n",
    "import numpy as np\n",
    "%pylab inline"
   ]
  },
  {
   "cell_type": "code",
   "execution_count": 164,
   "metadata": {
    "collapsed": false
   },
   "outputs": [],
   "source": [
    "thedir = \"/Volumes/Apps_and_Docs/MISSIONS/JWST/Zody_bathtubs/\"  # Satchmo\n",
    "thedir = \"/Users/jrrigby1/MISSIONS/JWST/Zody_bathtubs/\" # Milk\n",
    "wave_file = \"updated_std_spectrum_wavelengths.txt\"  # Standard wavelength array.  Should be SL_NWave=108 long\n",
    "wave_array = np.loadtxt(thedir + wave_file)\n",
    "myfiles = ('sl_pix_000593.bin','sl_pix_041303.bin','sl_pix_099422.bin','sl_pix_157139.bin','sl_pix_196512.bin')\n",
    "myfile = \"bg_samples_for_jane/\" + myfiles[4]\n",
    "#myfile = \"bg_samples_for_jane/sl_pix_099422.bin\" #\n",
    "SL_NWAVE = len(wave_array)  # should be 108.  Size of wavelength array\n",
    "sbet_file = open(thedir + myfile)\n",
    "sbet_data = sbet_file.read()"
   ]
  },
  {
   "cell_type": "code",
   "execution_count": 165,
   "metadata": {
    "collapsed": false
   },
   "outputs": [
    {
     "name": "stdout",
     "output_type": "stream",
     "text": [
      "File has 368704 bytes, which is 46088.0 doubles\n",
      "1460\n",
      "Out of 365 days, these many are legal: 212\n",
      "indices of days: [  0   1   2   3   4   5   6   7   8   9  10  11  12  13  14  15  16  17\n",
      "  18  19  20  21  22  23  24  25  26  27  28  29  30  31  32  33  34  35\n",
      "  36  37  38  39  40  41  42  43  44  45  46  47  48  49  50  51  52  53\n",
      "  54  55  56  57  58  59  60  61  62  63  64  65  66  67  68  69  70  71\n",
      "  72  73  74  75  76  77  78  79  80  81  82  83  84  85  86  87  88  89\n",
      "  90  91  92  93  94  95  96  97  98  99 100 101 102 103 104 105 106 107\n",
      " 108 109 110 111 112 113 114 115 116 117 118 119 120 121 122 123 124 125\n",
      " 126 127 128 129 130 131 132 133 134 135 136 137 138 139 140 141 142 143\n",
      " 144 145 146 147 148 149 150 151 152 153 154 155 156 157 158 159 160 161\n",
      " 162 163 164 165 166 167 168 169 170 171 172 173 174 175 176 177 178 179\n",
      " 180 181 182 183 184 185 186 187 188 189 190 191 192 193 194 195 196 197\n",
      " 198 199 200 201 202 203 204 205 206 207 208 209 210 211]\n",
      "calendar date: [ 62  63  64  65  66  67  68  69  70  71  72  73  74  75  76  77  78  79\n",
      "  80  81  82  83  84  85  86  87  88  89  90  91  92  93  94  95  96  97\n",
      "  98  99 100 101 102 103 104 105 106 107 108 109 110 111 112 113 114 115\n",
      " 116 117 118 119 120 121 122 123 124 125 126 127 128 129 130 131 132 133\n",
      " 134 135 136 137 138 139 140 141 142 143 144 145 146 147 148 149 150 151\n",
      " 152 153 154 155 156 157 158 159 160 161 162 163 164 165 166 167 168 169\n",
      " 170 171 172 173 174 175 176 177 178 179 180 181 182 183 184 185 186 187\n",
      " 188 189 190 191 192 193 194 195 196 197 198 199 200 201 202 203 204 205\n",
      " 206 207 208 209 210 211 212 213 214 215 216 217 218 219 220 221 222 223\n",
      " 224 225 226 227 228 229 230 231 232 233 234 235 236 237 238 239 240 241\n",
      " 242 243 244 245 246 247 248 249 250 251 252 253 254 255 256 257 258 259\n",
      " 260 261 262 263 264 265 266 267 268 269 270 271 272 273]\n",
      "365 212\n"
     ]
    }
   ],
   "source": [
    "# Unpack the constant first part\n",
    "print \"File has\", len(sbet_data), \"bytes, which is\", len(sbet_data)/8., \"doubles\"\n",
    "size_calendar = struct.calcsize(\"365i\") # bytes, not doubles\n",
    "print size_calendar\n",
    "partA = struct.unpack(str(5 + SL_NWAVE)+'d', sbet_data[0: (5 + SL_NWAVE)*8])\n",
    "RA = partA[0]\n",
    "DEC = partA[1]\n",
    "pos = partA[2:5]\n",
    "nonzodi_bg = partA[5:5+SL_NWAVE]\n",
    "\n",
    "# Unpack the calendar dates, which are integers\n",
    "date_map = np.array(struct.unpack('365i', sbet_data[(5 + SL_NWAVE)*8  : (5 + SL_NWAVE)*8 + size_calendar]))\n",
    "print \"Out of\", len(date_map), \"days, these many are legal:\", np.sum(date_map >=0)\n",
    "print \"indices of days:\", date_map[date_map>=0]\n",
    "calendar = np.where(date_map >=0)[0]\n",
    "print \"calendar date:\", calendar\n",
    "# So, the index dd in zodi_bg[dd, : ]  corresponds to the calendar day lookup[dd]\n",
    "Ndays = len(calendar)  # this may be off by one\n",
    "print len(date_map), Ndays"
   ]
  },
  {
   "cell_type": "code",
   "execution_count": 166,
   "metadata": {
    "collapsed": false
   },
   "outputs": [
    {
     "name": "stdout",
     "output_type": "stream",
     "text": [
      "45792\n"
     ]
    }
   ],
   "source": [
    "zodi_bg        = np.zeros((Ndays,SL_NWAVE))\n",
    "stray_light_bg = np.zeros((Ndays,SL_NWAVE))\n",
    "perday = SL_NWAVE*2\n",
    "partB= struct.unpack(str((len(calendar))*SL_NWAVE*2)+'d', sbet_data[perday*Ndays*-8 : ])\n",
    "print len(partB)"
   ]
  },
  {
   "cell_type": "code",
   "execution_count": 167,
   "metadata": {
    "collapsed": false
   },
   "outputs": [
    {
     "name": "stdout",
     "output_type": "stream",
     "text": [
      "Debug 212\n",
      "45792 was last double\n"
     ]
    }
   ],
   "source": [
    "print \"Debug\", Ndays\n",
    "for dd in range(0, int(Ndays)):\n",
    "    br1 = dd*perday\n",
    "    br2 = br1 + SL_NWAVE\n",
    "    br3 = br2 + SL_NWAVE\n",
    "    #print \"Breaking at:\", br1, br2, br3\n",
    "    zodi_bg[dd, ]        = partB[br1 : br2]\n",
    "    stray_light_bg[dd, ] = partB[br2 : br3]\n",
    "print br3, \"was last double\" \n",
    "#print \"DEBUGGING\", zodi_bg\n",
    "#print \"DEBUGGING\", stray_light_bg"
   ]
  },
  {
   "cell_type": "code",
   "execution_count": 168,
   "metadata": {
    "collapsed": false
   },
   "outputs": [
    {
     "data": {
      "image/png": "[encoded data removed]",
      "text/plain": [
       "<matplotlib.figure.Figure at 0x10fb15a90>"
      ]
     },
     "metadata": {},
     "output_type": "display_data"
    }
   ],
   "source": [
    "plt.plot(partB)\n",
    "plt.xlim(0,1000)\n",
    "#plt.ylim(0,30)\n",
    "plt.grid()"
   ]
  },
  {
   "cell_type": "code",
   "execution_count": 169,
   "metadata": {
    "collapsed": false
   },
   "outputs": [
    {
     "data": {
      "text/plain": [
       "<matplotlib.legend.Legend at 0x1127795d0>"
      ]
     },
     "execution_count": 169,
     "metadata": {},
     "output_type": "execute_result"
    },
    {
     "data": {
      "image/png": "[encoded data removed]",
      "text/plain": [
       "<matplotlib.figure.Figure at 0x10fcf9b10>"
      ]
     },
     "metadata": {},
     "output_type": "display_data"
    }
   ],
   "source": [
    "thisday = 100\n",
    "plt.plot(wave_array, nonzodi_bg, label=\"ISM\")\n",
    "plt.plot(wave_array, zodi_bg[thisday, :], label=\"Zodi\")\n",
    "plt.plot(wave_array, stray_light_bg[thisday, :], label=\"Stray light\")\n",
    "plt.xlim(0.6,31)\n",
    "plt.legend()"
   ]
  },
  {
   "cell_type": "code",
   "execution_count": 170,
   "metadata": {
    "collapsed": false
   },
   "outputs": [
    {
     "name": "stdout",
     "output_type": "stream",
     "text": [
      "\n"
     ]
    },
    {
     "data": {
      "text/plain": [
       "<matplotlib.text.Text at 0x112609d10>"
      ]
     },
     "execution_count": 170,
     "metadata": {},
     "output_type": "execute_result"
    },
    {
     "data": {
      "image/png": "[encoded data removed]",
      "text/plain": [
       "<matplotlib.figure.Figure at 0x11279bfd0>"
      ]
     },
     "metadata": {},
     "output_type": "display_data"
    }
   ],
   "source": [
    "# Plot bathtub curve for 2um\n",
    "print \n",
    "twomicron = 16 # 2.0 micron is index 16 in wave_array\n",
    "plt.scatter( calendar, zodi_bg[ : , twomicron])\n",
    "themin = np.min(zodi_bg[ : , twomicron])\n",
    "percentiles = (themin, themin*1.1)\n",
    "plt.hlines(percentiles, 0, 365, color='green')\n",
    "plt.xlabel(\"Day of the year\")\n",
    "plt.ylabel(\"bkg at \" + str(wave_array[twomicron]) + \" um (MJy/SR)\")"
   ]
  },
  {
   "cell_type": "code",
   "execution_count": null,
   "metadata": {
    "collapsed": true
   },
   "outputs": [],
   "source": []
  }
 ],
 "metadata": {
  "kernelspec": {
   "display_name": "Python 2",
   "language": "python",
   "name": "python2"
  },
  "language_info": {
   "codemirror_mode": {
    "name": "ipython",
    "version": 2
   },
   "file_extension": ".py",
   "mimetype": "text/x-python",
   "name": "python",
   "nbconvert_exporter": "python",
   "pygments_lexer": "ipython2",
   "version": "2.7.11"
  }
 },
 "nbformat": 4,
 "nbformat_minor": 0
}
