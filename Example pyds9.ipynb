{
 "cells": [
  {
   "cell_type": "markdown",
   "metadata": {},
   "source": [
    "### This is a basic example of using the pyds9 package to plot image data in the ds9 viewer, using Python.  "
   ]
  },
  {
   "cell_type": "markdown",
   "metadata": {},
   "source": [
    "This example loads data from a fits file into a numpy ndarray, does math on that array, and then plots the array in ds9.  By Jane Rigby, 6/2016, as a self-tutorial.  Use it if it helps you."
   ]
  },
  {
   "cell_type": "code",
   "execution_count": 15,
   "metadata": {
    "collapsed": false
   },
   "outputs": [],
   "source": [
    "import numpy as np\n",
    "from astropy.io import fits\n",
    "from astropy.utils.data import download_file\n",
    "from astropy.io.fits import getdata\n",
    "import pyds9"
   ]
  },
  {
   "cell_type": "code",
   "execution_count": 17,
   "metadata": {
    "collapsed": false
   },
   "outputs": [
    {
     "data": {
      "text/plain": [
       "1"
      ]
     },
     "execution_count": 17,
     "metadata": {},
     "output_type": "execute_result"
    }
   ],
   "source": [
    "image_file = download_file('http://data.astropy.org/tutorials/FITS-images/HorseHead.fits', cache=True )\n",
    "(im_int, hdr) = getdata(image_file, header=True) #image is numpy array\n",
    "im = im_int.astype(np.float64)  # convert data from int to float\n",
    "im +=0.01 # im is a numpy array, so we can do math on it.\n",
    "d = pyds9.DS9('foo1')  # start ds9.  'd' is the way to call ds9\n",
    "d.set_np2arr(im) # sending ndarray im directly to ds9\n",
    "#d.set('file open', image_file)\n",
    "d.set(\"colorbar no\")   # example of manipulating the ds9 window\n",
    "d.set(\"scale zscale\")  # example of manipulating the ds9 window\n",
    "d.set(\"zoom to 0.6 0.6\")"
   ]
  },
  {
   "cell_type": "code",
   "execution_count": null,
   "metadata": {
    "collapsed": true
   },
   "outputs": [],
   "source": []
  },
  {
   "cell_type": "code",
   "execution_count": null,
   "metadata": {
    "collapsed": true
   },
   "outputs": [],
   "source": []
  }
 ],
 "metadata": {
  "kernelspec": {
   "display_name": "Python 2",
   "language": "python",
   "name": "python2"
  },
  "language_info": {
   "codemirror_mode": {
    "name": "ipython",
    "version": 2
   },
   "file_extension": ".py",
   "mimetype": "text/x-python",
   "name": "python",
   "nbconvert_exporter": "python",
   "pygments_lexer": "ipython2",
   "version": "2.7.11"
  }
 },
 "nbformat": 4,
 "nbformat_minor": 0
}
