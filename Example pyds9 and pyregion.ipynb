{
 "cells": [
  {
   "cell_type": "markdown",
   "metadata": {},
   "source": [
    "### This is a basic example of using 2 python packages:  pyds9 and pyregion.  I use pyds9 to plot image data in the ds9 viewer, and pyregion to manipulate ds9 regions files."
   ]
  },
  {
   "cell_type": "markdown",
   "metadata": {},
   "source": [
    "This example loads data from a fits file into a numpy ndarray, does math on that array, and plots the array in ds9, and then does some filtering and math using regions files.  By Jane Rigby, 6/2016, as a self-tutorial.  Use it if it helps you."
   ]
  },
  {
   "cell_type": "code",
   "execution_count": 43,
   "metadata": {
    "collapsed": false
   },
   "outputs": [],
   "source": [
    "import numpy as np\n",
    "from astropy.io import fits\n",
    "from astropy.utils.data import download_file\n",
    "from astropy.io.fits import getdata\n",
    "import pyds9\n",
    "import pyregion"
   ]
  },
  {
   "cell_type": "code",
   "execution_count": 44,
   "metadata": {
    "collapsed": false
   },
   "outputs": [
    {
     "data": {
      "text/plain": [
       "1"
      ]
     },
     "execution_count": 44,
     "metadata": {},
     "output_type": "execute_result"
    }
   ],
   "source": [
    "image_file = download_file('http://data.astropy.org/tutorials/FITS-images/HorseHead.fits', cache=True )\n",
    "f = fits.open(image_file)\n",
    "dum = f[0].data  # screwing around to get hdu as pyregions wants it\n",
    "im = dum.astype(np.float64)\n",
    "#(im_int, hdr) = getdata(image_file, header=True) #image is numpy array\n",
    "im +=0.01 # im is a numpy array, so we can do math on it.\n",
    "#d = pyds9.DS9('foo1')  # start ds9.  'd' is the way to call ds9\n",
    "d = pyds9.DS9('/var/folders/ly/n6803yys5cs9tw41zytqgmvcmz2qhx/T//DS9_foo1.39834') #kludge\n",
    "d.set_np2arr(im) # sending ndarray im directly to ds9\n",
    "d.set(\"colorbar no\")   # example of manipulating the ds9 window\n",
    "d.set(\"scale zscale\")  # example of manipulating the ds9 window\n",
    "d.set(\"zoom to 0.6 0.6\")"
   ]
  },
  {
   "cell_type": "code",
   "execution_count": 45,
   "metadata": {
    "collapsed": false
   },
   "outputs": [
    {
     "name": "stdout",
     "output_type": "stream",
     "text": [
      "Stupid aperture photometry:\n",
      "flux_in_aperture  flux_in_bkg   net_flux\n",
      "18665478.73 16994411.73 1671067.0\n"
     ]
    }
   ],
   "source": [
    "## As an example of using pyregion, do some stupid aperture photometry\n",
    "reg = 'image;circle(727.0,603.0,21)' # example region\n",
    "bkg = 'image;circle(800.0,600.0,21)' # bkg region\n",
    "d.set('regions', reg)  # load that region in ds9\n",
    "d.set('regions', bkg)\n",
    "r = pyregion.parse(reg)               # Ugly but works, 10pm.  get_mask syntax is failing\n",
    "myfilter = r.get_filter()\n",
    "total_flux = np.nansum(myfilter.mask(im) * im) \n",
    "#\n",
    "b = pyregion.parse(bkg)\n",
    "bkgfilter = b.get_filter()\n",
    "bkg_flux = np.nansum(bkgfilter.mask(im) * im)\n",
    "print \"Stupid aperture photometry:\"\n",
    "print \"flux_in_aperture  flux_in_bkg   net_flux\"\n",
    "print total_flux, bkg_flux, total_flux - bkg_flux"
   ]
  },
  {
   "cell_type": "code",
   "execution_count": null,
   "metadata": {
    "collapsed": true
   },
   "outputs": [],
   "source": []
  }
 ],
 "metadata": {
  "kernelspec": {
   "display_name": "Python 2",
   "language": "python",
   "name": "python2"
  },
  "language_info": {
   "codemirror_mode": {
    "name": "ipython",
    "version": 2
   },
   "file_extension": ".py",
   "mimetype": "text/x-python",
   "name": "python",
   "nbconvert_exporter": "python",
   "pygments_lexer": "ipython2",
   "version": "2.7.11"
  }
 },
 "nbformat": 4,
 "nbformat_minor": 0
}
