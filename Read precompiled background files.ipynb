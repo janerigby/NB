{
 "cells": [
  {
   "cell_type": "markdown",
   "metadata": {},
   "source": [
    "NB to show how to read STScI's precompiled background estimates for the ETC.  Want to make my own bathtub curves of zody vs time.  \n",
    "To read binary files, following tutorial at http://vislab-ccom.unh.edu/~schwehr/rt/python-binary-files.html"
   ]
  },
  {
   "cell_type": "code",
   "execution_count": 27,
   "metadata": {
    "collapsed": true
   },
   "outputs": [],
   "source": [
    "# File description from email V Laidler 23 March 2017\n",
    "# C structure used to write the stray light binary file.\n",
    "# One record per file.\n",
    "#    typedef struct {\n",
    "#              double pix_ra;\n",
    "#              double pix_dec;\n",
    "#              double pos[3];\n",
    "#              double nonzodi_bg[SL_NWAVE];  // The in-field ism+cib for each pixel.\n",
    "#            } sl_pix;\n",
    "#              Then for every day with the target in the FOR,the following three items are written.\n",
    "#              double day;\n",
    "#              double zodi_bg[SL_NWAVE];  //  The combined in-field zodi for each pixel.\n",
    "#              double stray_light_bg[SL_NWAVE];  //The equivalent in-field background from stray light from zodi, stellar,ism, cib\n",
    "#The wavelength array is the standard one that we converged\n",
    "#on last year, so they are all on the same wavelength array\n",
    "#that is SL_NWAVE = 108 elements long."
   ]
  },
  {
   "cell_type": "code",
   "execution_count": 2,
   "metadata": {
    "collapsed": false
   },
   "outputs": [
    {
     "name": "stdout",
     "output_type": "stream",
     "text": [
      "Populating the interactive namespace from numpy and matplotlib\n"
     ]
    }
   ],
   "source": [
    "import struct\n",
    "import numpy as np\n",
    "%pylab inline"
   ]
  },
  {
   "cell_type": "code",
   "execution_count": 79,
   "metadata": {
    "collapsed": false
   },
   "outputs": [],
   "source": [
    "thedir = \"/Volumes/Apps_and_Docs/MISSIONS/JWST/Zody_bathtubs/\"\n",
    "wave_file = \"updated_std_spectrum_wavelengths.txt\"  # Standard wavelength array.  Should be SL_NWave=108 long\n",
    "wave_array = np.loadtxt(thedir + wave_file)\n",
    "myfile = \"bg_samples_for_jane/sl_pix_099422.bin\" #sl_pix_000593.bin\" #\n",
    "SL_NWAVE = 108  # size of wavelength array\n",
    "sbet_file = open(thedir + myfile)\n",
    "sbet_data = sbet_file.read()"
   ]
  },
  {
   "cell_type": "code",
   "execution_count": 104,
   "metadata": {
    "collapsed": false
   },
   "outputs": [
    {
     "name": "stdout",
     "output_type": "stream",
     "text": [
      "File has 195904 bytes, which is 24488.0 doubles\n",
      "Warning, Ndays should be an integer. Is it? 112.32718894\n",
      "24488 total doubles\n",
      "  113 values true for all dates, plus\n",
      "  217 values per day for 112 days\n",
      "24304\n",
      "24375 values that are per day\n",
      "Weird, I have 71 extra values\n",
      "Breaking at: 113 114 222 330\n",
      "Breaking at: 330 331 439 547\n",
      "Breaking at: 547 548 656 764\n",
      "Breaking at: 764 765 873 981\n",
      "Breaking at: 981 982 1090 1198\n",
      "Breaking at: 1198 1199 1307 1415\n",
      "Breaking at: 1415 1416 1524 1632\n",
      "Breaking at: 1632 1633 1741 1849\n",
      "Breaking at: 1849 1850 1958 2066\n",
      "Breaking at: 2066 2067 2175 2283\n",
      "Breaking at: 2283 2284 2392 2500\n",
      "Breaking at: 2500 2501 2609 2717\n",
      "Breaking at: 2717 2718 2826 2934\n",
      "Breaking at: 2934 2935 3043 3151\n",
      "Breaking at: 3151 3152 3260 3368\n",
      "Breaking at: 3368 3369 3477 3585\n",
      "Breaking at: 3585 3586 3694 3802\n",
      "Breaking at: 3802 3803 3911 4019\n",
      "Breaking at: 4019 4020 4128 4236\n",
      "Breaking at: 4236 4237 4345 4453\n",
      "Breaking at: 4453 4454 4562 4670\n",
      "Breaking at: 4670 4671 4779 4887\n",
      "Breaking at: 4887 4888 4996 5104\n",
      "Breaking at: 5104 5105 5213 5321\n",
      "Breaking at: 5321 5322 5430 5538\n",
      "Breaking at: 5538 5539 5647 5755\n",
      "Breaking at: 5755 5756 5864 5972\n",
      "Breaking at: 5972 5973 6081 6189\n",
      "Breaking at: 6189 6190 6298 6406\n",
      "Breaking at: 6406 6407 6515 6623\n",
      "Breaking at: 6623 6624 6732 6840\n",
      "Breaking at: 6840 6841 6949 7057\n",
      "Breaking at: 7057 7058 7166 7274\n",
      "Breaking at: 7274 7275 7383 7491\n",
      "Breaking at: 7491 7492 7600 7708\n",
      "Breaking at: 7708 7709 7817 7925\n",
      "Breaking at: 7925 7926 8034 8142\n",
      "Breaking at: 8142 8143 8251 8359\n",
      "Breaking at: 8359 8360 8468 8576\n",
      "Breaking at: 8576 8577 8685 8793\n",
      "Breaking at: 8793 8794 8902 9010\n",
      "Breaking at: 9010 9011 9119 9227\n",
      "Breaking at: 9227 9228 9336 9444\n",
      "Breaking at: 9444 9445 9553 9661\n",
      "Breaking at: 9661 9662 9770 9878\n",
      "Breaking at: 9878 9879 9987 10095\n",
      "Breaking at: 10095 10096 10204 10312\n",
      "Breaking at: 10312 10313 10421 10529\n",
      "Breaking at: 10529 10530 10638 10746\n",
      "Breaking at: 10746 10747 10855 10963\n",
      "Breaking at: 10963 10964 11072 11180\n",
      "Breaking at: 11180 11181 11289 11397\n",
      "Breaking at: 11397 11398 11506 11614\n",
      "Breaking at: 11614 11615 11723 11831\n",
      "Breaking at: 11831 11832 11940 12048\n",
      "Breaking at: 12048 12049 12157 12265\n",
      "Breaking at: 12265 12266 12374 12482\n",
      "Breaking at: 12482 12483 12591 12699\n",
      "Breaking at: 12699 12700 12808 12916\n",
      "Breaking at: 12916 12917 13025 13133\n",
      "Breaking at: 13133 13134 13242 13350\n",
      "Breaking at: 13350 13351 13459 13567\n",
      "Breaking at: 13567 13568 13676 13784\n",
      "Breaking at: 13784 13785 13893 14001\n",
      "Breaking at: 14001 14002 14110 14218\n",
      "Breaking at: 14218 14219 14327 14435\n",
      "Breaking at: 14435 14436 14544 14652\n",
      "Breaking at: 14652 14653 14761 14869\n",
      "Breaking at: 14869 14870 14978 15086\n",
      "Breaking at: 15086 15087 15195 15303\n",
      "Breaking at: 15303 15304 15412 15520\n",
      "Breaking at: 15520 15521 15629 15737\n",
      "Breaking at: 15737 15738 15846 15954\n",
      "Breaking at: 15954 15955 16063 16171\n",
      "Breaking at: 16171 16172 16280 16388\n",
      "Breaking at: 16388 16389 16497 16605\n",
      "Breaking at: 16605 16606 16714 16822\n",
      "Breaking at: 16822 16823 16931 17039\n",
      "Breaking at: 17039 17040 17148 17256\n",
      "Breaking at: 17256 17257 17365 17473\n",
      "Breaking at: 17473 17474 17582 17690\n",
      "Breaking at: 17690 17691 17799 17907\n",
      "Breaking at: 17907 17908 18016 18124\n",
      "Breaking at: 18124 18125 18233 18341\n",
      "Breaking at: 18341 18342 18450 18558\n",
      "Breaking at: 18558 18559 18667 18775\n",
      "Breaking at: 18775 18776 18884 18992\n",
      "Breaking at: 18992 18993 19101 19209\n",
      "Breaking at: 19209 19210 19318 19426\n",
      "Breaking at: 19426 19427 19535 19643\n",
      "Breaking at: 19643 19644 19752 19860\n",
      "Breaking at: 19860 19861 19969 20077\n",
      "Breaking at: 20077 20078 20186 20294\n",
      "Breaking at: 20294 20295 20403 20511\n",
      "Breaking at: 20511 20512 20620 20728\n",
      "Breaking at: 20728 20729 20837 20945\n",
      "Breaking at: 20945 20946 21054 21162\n",
      "Breaking at: 21162 21163 21271 21379\n",
      "Breaking at: 21379 21380 21488 21596\n",
      "Breaking at: 21596 21597 21705 21813\n",
      "Breaking at: 21813 21814 21922 22030\n",
      "Breaking at: 22030 22031 22139 22247\n",
      "Breaking at: 22247 22248 22356 22464\n",
      "Breaking at: 22464 22465 22573 22681\n",
      "Breaking at: 22681 22682 22790 22898\n",
      "Breaking at: 22898 22899 23007 23115\n",
      "Breaking at: 23115 23116 23224 23332\n",
      "Breaking at: 23332 23333 23441 23549\n",
      "Breaking at: 23549 23550 23658 23766\n",
      "Breaking at: 23766 23767 23875 23983\n",
      "Breaking at: 23983 23984 24092 24200\n",
      "Breaking at: 24200 24201 24309 24417\n",
      "DEBUG, last double was 24417\n",
      "There are 71 extra values at the end of the file:\n",
      "(0.13032635899169526, 0.14575102912800356, 0.1648726672507026, 0.18130930724986824, 0.20189067563373858, 0.25201357897476284, 0.30137738002695397, 0.369371378853242, 0.4691038328093165, 0.4996503424386133, 0.5681462033865897, 0.6503549268259553, 0.736245214179541, 0.8389798363003836, 0.9661757769783079, 1.0834530038045311, 1.1591422747692848, 1.2297381577209603, 1.3239504616955966, 1.4333052391124579, 1.5324981985849533, 1.6123858620829272, 1.7102782046126581, 1.8116379329234154, 1.9145418881696492, 2.0152571719291883, 2.118813040463088, 2.213397089751908, 2.301842297881541, 2.393942824630216, 2.4822287232512292, 2.5712440390993314, 2.6798320076694004, 2.7993455103624743, 2.853785041844607, 2.885128950565614, 2.947336990814103, 3.020666130657297, 3.106595313372587, 3.189289152237352, 3.2690133042532072, 3.3371061374653, 3.3973163982452848, 3.461692391485845, 3.5297708081047903, 3.592993949170077, 3.6518109218343, 3.713337349204355, 3.7703282515180367, 3.8246300329538845, 3.8757613252447456, 3.926652266013437, 3.975881651127388, 4.021886143611896, 4.072213581055857, 4.271650915796645, 4.425079397812918, 4.538294924076086, 4.616987311440763, 4.666389569927401, 4.691185659752165, 4.69550943370054, 4.682943515333857, 4.656573415908654, 4.579529487038412, 4.45637173723912, 4.329465041695595, 4.200574923940952, 4.071086908737688, 3.9421089842166017, 3.8780918849713233)\n",
      "[  1.62016386e+01   1.69834056e+01   1.77503586e+01   1.85005656e+01\n",
      "   1.92323077e+01   1.99440716e+01   2.06345407e+01   2.13025854e+01\n",
      "   2.19472528e+01   2.25677554e+01   2.32482859e+01   2.39960230e+01\n",
      "   2.47280035e+01   2.54435734e+01   2.61421780e+01   2.68233544e+01\n",
      "   2.74867254e+01   2.81319933e+01   2.87589333e+01   2.93673880e+01\n",
      "   2.99572613e+01   3.05285136e+01   3.10811562e+01   3.16152467e+01\n",
      "   3.21308844e+01   3.26282063e+01   3.31073826e+01   3.35686137e+01\n",
      "   3.56142736e+01   3.72531445e+01   3.85273303e+01   3.94808680e+01\n",
      "   4.01566010e+01   4.05944361e+01   4.08305014e+01   4.08968702e+01\n",
      "   4.08216190e+01   4.02721370e+01   3.92862105e+01   3.82471781e+01\n",
      "   3.71727116e+01   3.60772216e+01   3.49723822e+01   3.44194689e+01\n",
      "   3.03370237e-02   5.10147020e-02   5.49103586e-02   5.79470842e-02\n",
      "   5.90060440e-02   8.02365828e-02   7.69732347e-02   7.35423819e-02\n",
      "   7.07709172e-02   6.86368908e-02   6.65286328e-02   6.44831228e-02\n",
      "   6.25170605e-02   5.56611630e-02   5.39159630e-02   5.22583391e-02\n",
      "   5.14820705e-02   5.07658013e-02   4.99838195e-02   4.92801735e-02\n",
      "   4.86425761e-02   4.80710854e-02   4.75583008e-02   4.71007443e-02\n",
      "   3.41387902e-02   3.37443604e-02   3.30391833e-02   3.29671370e-02\n",
      "   3.48530379e-02   3.12230363e-02   3.28022397e-02   3.37069120e-02\n",
      "   3.71836396e-02   3.55375437e-02   4.37134529e-02   5.47325499e-02\n",
      "   6.86032059e-02   7.69890684e-02   8.62026015e-02   9.87085673e-02\n",
      "   1.08100149e-01   1.21246522e-01   1.55369612e-01   1.87193924e-01\n",
      "   2.36630292e-01   3.16865683e-01   3.25660039e-01   3.71975742e-01\n",
      "   4.31426104e-01   4.93973574e-01   5.73298460e-01   6.77484428e-01\n",
      "   7.71415209e-01   8.22497870e-01   8.68360519e-01   9.38842750e-01\n",
      "   1.02541061e+00   1.10196221e+00   1.15902684e+00   1.23551061e+00\n",
      "   1.31640869e+00   1.39980341e+00   1.48256041e+00   1.56862519e+00]\n"
     ]
    }
   ],
   "source": [
    "print \"File has\", len(sbet_data), \"bytes, which is\", len(sbet_data)/8., \"doubles\"\n",
    "allval = struct.unpack(str(len(sbet_data)/8) + 'd', sbet_data)\n",
    "perday = 1 + SL_NWAVE*2  # size of a daily chunk\n",
    "static = 5 + SL_NWAVE   # data for position, not time-variable\n",
    "Ndays = (len(allval)*1.0 - static)/ perday\n",
    "print \"Warning, Ndays should be an integer. Is it?\", Ndays\n",
    "Ndays = int(Ndays)\n",
    "print len(allval), \"total doubles\"\n",
    "print \" \", static, \"values true for all dates, plus\"\n",
    "print \" \", perday, \"values per day for\", Ndays, \"days\"\n",
    "print perday*Ndays\n",
    "print len(allval) - 5 - SL_NWAVE, \"values that are per day\"\n",
    "print \"Weird, I have\", len(allval) - static - perday*int(Ndays), \"extra values\"\n",
    "RAnew = allval[0]\n",
    "DECnew = allval[1]\n",
    "pos = allval[2:5]\n",
    "nonzodi_bg = allval[5:5+SL_NWAVE]\n",
    "day            = np.zeros(Ndays)\n",
    "zodi_bg        = np.zeros((Ndays,SL_NWAVE))\n",
    "stray_light_bg = np.zeros((Ndays,SL_NWAVE))\n",
    "for dd in range(0, int(Ndays)):\n",
    "    br1 = static + dd*perday\n",
    "    br2 = br1 + 1\n",
    "    br3 = br2 + SL_NWAVE\n",
    "    br4 = br3 + SL_NWAVE\n",
    "    print \"Breaking at:\", br1, br2, br3, br4\n",
    "    day[dd]            = allval[br1]\n",
    "    #print \"DAY\", day\n",
    "    zodi_bg[dd, :]        = allval[br2 : br3]\n",
    "    stray_light_bg[dd, :] = allval[br3 : br4]\n",
    "print \"DEBUG, last double was\", br4\n",
    "#print \"DEBUGGING\", zodi_bg\n",
    "#print \"DEBUGGING\", stray_light_bg\n",
    "#print \"DEBUGGING\", allval[SL_NWAVE +5 : SL_NWAVE+5+SL_NWAVE]\n",
    "print \"There are\", len(allval[br4 : len(allval)]), \"extra values at the end of the file:\" \n",
    "print allval[br4 : len(allval)]\n",
    "print zodi_bg[30, :]"
   ]
  },
  {
   "cell_type": "code",
   "execution_count": 107,
   "metadata": {
    "collapsed": false
   },
   "outputs": [
    {
     "data": {
      "image/png": "[encoded data removed]",
      "text/plain": [
       "<matplotlib.figure.Figure at 0x112964250>"
      ]
     },
     "metadata": {},
     "output_type": "display_data"
    }
   ],
   "source": [
    "#plt.plot(wave_array, nonzodi_bg, label=\"ISM\")\n",
    "#plt.plot(wave_array, zodi_bg[24], label=\"Zodi\")\n",
    "#plt.plot(wave_array, stray_light_bg[0, :], label=\"Stray light\")\n",
    "plt.plot(allval)\n",
    "plt.xlim(0,800)\n",
    "plt.ylim(0,60)\n",
    "plt.grid()\n",
    "plt.legend()"
   ]
  },
  {
   "cell_type": "code",
   "execution_count": null,
   "metadata": {
    "collapsed": true
   },
   "outputs": [],
   "source": []
  }
 ],
 "metadata": {
  "kernelspec": {
   "display_name": "Python 2",
   "language": "python",
   "name": "python2"
  },
  "language_info": {
   "codemirror_mode": {
    "name": "ipython",
    "version": 2
   },
   "file_extension": ".py",
   "mimetype": "text/x-python",
   "name": "python",
   "nbconvert_exporter": "python",
   "pygments_lexer": "ipython2",
   "version": "2.7.12"
  }
 },
 "nbformat": 4,
 "nbformat_minor": 0
}
