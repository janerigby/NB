{
 "cells": [
  {
   "cell_type": "markdown",
   "metadata": {},
   "source": [
    "NB to show how to read STScI's precompiled background estimates for the ETC.  Want to make my own bathtub curves of zody vs time.  \n",
    "To read binary files, following tutorial at http://vislab-ccom.unh.edu/~schwehr/rt/python-binary-files.html"
   ]
  },
  {
   "cell_type": "code",
   "execution_count": 138,
   "metadata": {
    "collapsed": true
   },
   "outputs": [],
   "source": [
    "# File description from email V Laidler 23 March 2017\n",
    "# C structure used to write the stray light binary file.\n",
    "# One record per file.\n",
    "#    typedef struct {\n",
    "#              double pix_ra;\n",
    "#              double pix_dec;\n",
    "#              double pos[3];\n",
    "#              double nonzodi_bg[SL_NWAVE];  // The in-field ism+cib for each pixel.\n",
    "#            } sl_pix;\n",
    "#              Then for every day with the target in the FOR,the following three items are written.\n",
    "#              double day;\n",
    "#              double zodi_bg[SL_NWAVE];  //  The combined in-field zodi for each pixel.\n",
    "#              double stray_light_bg[SL_NWAVE];  //The equivalent in-field background from stray light from zodi, stellar,ism, cib\n",
    "#The wavelength array is the standard one that we converged\n",
    "#on last year, so they are all on the same wavelength array\n",
    "#that is SL_NWAVE = 108 elements long."
   ]
  },
  {
   "cell_type": "code",
   "execution_count": 139,
   "metadata": {
    "collapsed": false
   },
   "outputs": [
    {
     "name": "stdout",
     "output_type": "stream",
     "text": [
      "Populating the interactive namespace from numpy and matplotlib\n"
     ]
    }
   ],
   "source": [
    "import struct\n",
    "import numpy as np\n",
    "%pylab inline"
   ]
  },
  {
   "cell_type": "code",
   "execution_count": 140,
   "metadata": {
    "collapsed": false
   },
   "outputs": [],
   "source": [
    "thedir = \"/Volumes/Apps_and_Docs/MISSIONS/JWST/Zody_bathtubs/\"  # Satchmo\n",
    "thedir = \"/Users/jrrigby1/MISSIONS/JWST/Zody_bathtubs/\" # Milk\n",
    "wave_file = \"updated_std_spectrum_wavelengths.txt\"  # Standard wavelength array.  Should be SL_NWave=108 long\n",
    "wave_array = np.loadtxt(thedir + wave_file)\n",
    "myfiles = ('sl_pix_000593.bin','sl_pix_041303.bin','sl_pix_099422.bin','sl_pix_157139.bin','sl_pix_196512.bin')\n",
    "myfile = \"bg_samples_for_jane/\" + myfiles[2]\n",
    "#myfile = \"bg_samples_for_jane/sl_pix_099422.bin\" #\n",
    "SL_NWAVE = len(wave_array)  # should be 108.  Size of wavelength array\n",
    "sbet_file = open(thedir + myfile)\n",
    "sbet_data = sbet_file.read()"
   ]
  },
  {
   "cell_type": "code",
   "execution_count": 141,
   "metadata": {
    "collapsed": false
   },
   "outputs": [
    {
     "name": "stdout",
     "output_type": "stream",
     "text": [
      "File has 195904 bytes, which is 24488.0 doubles\n",
      "Warning, Ndays should be an integer. Is it? 112.0\n",
      "24487 is last index of allval\n",
      "  296 values true for all dates, plus\n",
      "  216 values per day for 112 days\n"
     ]
    }
   ],
   "source": [
    "print \"File has\", len(sbet_data), \"bytes, which is\", len(sbet_data)/8., \"doubles\"\n",
    "extra_junk = 183 # There are 183 extra doubles before the date-by-date that I cant explain\n",
    "allval = struct.unpack(str(len(sbet_data)/8) + 'd', sbet_data)\n",
    "#perday = 1 + SL_NWAVE*2  # size of a daily chunk\n",
    "perday = SL_NWAVE*2  # size of a daily chunk\n",
    "static = 5 + SL_NWAVE + extra_junk  # data for position, not time-variable\n",
    "Ndays = (len(allval)*1.0 - static)/ perday   # if we subtract 2 here, get Ndays as int\n",
    "print \"Warning, Ndays should be an integer. Is it?\", Ndays\n",
    "Ndays = int(Ndays)\n",
    "print len(allval)-1, \"is last index of allval\"\n",
    "print \" \", static, \"values true for all dates, plus\"\n",
    "print \" \", perday, \"values per day for\", Ndays, \"days\"\n",
    "RA = allval[0]\n",
    "DEC = allval[1]\n",
    "pos = allval[2:5]\n",
    "nonzodi_bg = allval[5:5+SL_NWAVE]\n",
    "whatisthis = allval[5 + SL_NWAVE  : static]  # Ask Vicki, what is this extra stuff?\n",
    "#print whatisthis"
   ]
  },
  {
   "cell_type": "code",
   "execution_count": 142,
   "metadata": {
    "collapsed": false
   },
   "outputs": [
    {
     "name": "stdout",
     "output_type": "stream",
     "text": [
      "24488 was last double\n"
     ]
    }
   ],
   "source": [
    "#day            = np.zeros(Ndays)\n",
    "zodi_bg        = np.zeros((Ndays,SL_NWAVE))\n",
    "stray_light_bg = np.zeros((Ndays,SL_NWAVE))\n",
    "for dd in range(0, int(Ndays)):\n",
    "    br1 = static +  dd*perday\n",
    "    br2 = br1\n",
    "    br3 = br2 + SL_NWAVE\n",
    "    br4 = br3 + SL_NWAVE\n",
    "    #print \"Breaking at:\", br1, br2, br3, br4, br2-br1, br3-br2, br4-br3\n",
    "    #day[dd]               = allval[br1]  # Andrea pointed out there is no day here.\n",
    "    zodi_bg[dd, ]        = allval[br2 : br3]\n",
    "    stray_light_bg[dd, ] = allval[br3 : br4]\n",
    "print br4, \"was last double\" \n",
    "#print \"DEBUGGING\", zodi_bg\n",
    "#print \"DEBUGGING\", stray_light_bg"
   ]
  },
  {
   "cell_type": "code",
   "execution_count": 143,
   "metadata": {
    "collapsed": false
   },
   "outputs": [
    {
     "data": {
      "image/png": "[encoded data removed]",
      "text/plain": [
       "<matplotlib.figure.Figure at 0x116039310>"
      ]
     },
     "metadata": {},
     "output_type": "display_data"
    }
   ],
   "source": [
    "plt.plot(allval)\n",
    "plt.xlim(0,1000)\n",
    "#plt.ylim(0,30)\n",
    "plt.grid()"
   ]
  },
  {
   "cell_type": "code",
   "execution_count": 144,
   "metadata": {
    "collapsed": false
   },
   "outputs": [
    {
     "data": {
      "text/plain": [
       "<matplotlib.legend.Legend at 0x116413d90>"
      ]
     },
     "execution_count": 144,
     "metadata": {},
     "output_type": "execute_result"
    },
    {
     "data": {
      "image/png": "[encoded data removed]",
      "text/plain": [
       "<matplotlib.figure.Figure at 0x114fee0d0>"
      ]
     },
     "metadata": {},
     "output_type": "display_data"
    }
   ],
   "source": [
    "thisday = 100\n",
    "plt.plot(wave_array, nonzodi_bg, label=\"ISM\")\n",
    "plt.plot(wave_array, zodi_bg[thisday, :], label=\"Zodi\")\n",
    "plt.plot(wave_array, stray_light_bg[thisday, :], label=\"Stray light\")\n",
    "plt.xlim(0.6,31)\n",
    "plt.legend()"
   ]
  },
  {
   "cell_type": "code",
   "execution_count": 145,
   "metadata": {
    "collapsed": false
   },
   "outputs": [
    {
     "data": {
      "text/plain": [
       "<matplotlib.collections.LineCollection at 0x11647e5d0>"
      ]
     },
     "execution_count": 145,
     "metadata": {},
     "output_type": "execute_result"
    },
    {
     "data": {
      "image/png": "[encoded data removed]",
      "text/plain": [
       "<matplotlib.figure.Figure at 0x11647ea90>"
      ]
     },
     "metadata": {},
     "output_type": "display_data"
    }
   ],
   "source": [
    "# Plot bathtub curve for 2um\n",
    "twomicron = 16 # 2.0 micron is index 16 in wave_array\n",
    "plt.plot( range(0,Ndays), zodi_bg[ : , twomicron])\n",
    "themin = np.min(zodi_bg[ : , twomicron])\n",
    "percentiles = (themin, themin*1.1)\n",
    "plt.hlines(percentiles, 0, 200, color='green')"
   ]
  },
  {
   "cell_type": "code",
   "execution_count": null,
   "metadata": {
    "collapsed": true
   },
   "outputs": [],
   "source": []
  }
 ],
 "metadata": {
  "kernelspec": {
   "display_name": "Python 2",
   "language": "python",
   "name": "python2"
  },
  "language_info": {
   "codemirror_mode": {
    "name": "ipython",
    "version": 2
   },
   "file_extension": ".py",
   "mimetype": "text/x-python",
   "name": "python",
   "nbconvert_exporter": "python",
   "pygments_lexer": "ipython2",
   "version": "2.7.11"
  }
 },
 "nbformat": 4,
 "nbformat_minor": 0
}
