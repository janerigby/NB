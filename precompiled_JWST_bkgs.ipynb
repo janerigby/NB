{
 "cells": [
  {
   "cell_type": "markdown",
   "metadata": {},
   "source": [
    "NB to show how to read STScI's precompiled background estimates for the ETC.  Want to make my own bathtub curves of zody vs time.  \n",
    "To read binary files, following tutorial at http://vislab-ccom.unh.edu/~schwehr/rt/python-binary-files.html"
   ]
  },
  {
   "cell_type": "code",
   "execution_count": 27,
   "metadata": {
    "collapsed": true
   },
   "outputs": [],
   "source": [
    "# File description from email V Laidler 23 March 2017\n",
    "# C structure used to write the stray light binary file.\n",
    "# One record per file.\n",
    "#    typedef struct {\n",
    "#              double pix_ra;\n",
    "#              double pix_dec;\n",
    "#              double pos[3];\n",
    "#              double nonzodi_bg[SL_NWAVE];  // The in-field ism+cib for each pixel.\n",
    "#            } sl_pix;\n",
    "#              Then for every day with the target in the FOR,the following three items are written.\n",
    "#              double day;\n",
    "#              double zodi_bg[SL_NWAVE];  //  The combined in-field zodi for each pixel.\n",
    "#              double stray_light_bg[SL_NWAVE];  //The equivalent in-field background from stray light from zodi, stellar,ism, cib\n",
    "#The wavelength array is the standard one that we converged\n",
    "#on last year, so they are all on the same wavelength array\n",
    "#that is SL_NWAVE = 108 elements long."
   ]
  },
  {
   "cell_type": "code",
   "execution_count": 1,
   "metadata": {
    "collapsed": false
   },
   "outputs": [
    {
     "name": "stdout",
     "output_type": "stream",
     "text": [
      "Populating the interactive namespace from numpy and matplotlib\n"
     ]
    }
   ],
   "source": [
    "import struct\n",
    "import numpy as np\n",
    "%pylab inline"
   ]
  },
  {
   "cell_type": "code",
   "execution_count": 33,
   "metadata": {
    "collapsed": false
   },
   "outputs": [],
   "source": [
    "thedir = \"/Volumes/Apps_and_Docs/MISSIONS/JWST/Zody_bathtubs/\"  # Satchmo\n",
    "thedir = \"/Users/jrrigby1/MISSIONS/JWST/Zody_bathtubs/\" # Milk\n",
    "wave_file = \"updated_std_spectrum_wavelengths.txt\"  # Standard wavelength array.  Should be SL_NWave=108 long\n",
    "wave_array = np.loadtxt(thedir + wave_file)\n",
    "myfile = \"bg_samples_for_jane/sl_pix_000593.bin\" #sl_pix_099422.bin\" #\n",
    "myfile = \"bg_samples_for_jane/sl_pix_099422.bin\" #\n",
    "SL_NWAVE = 108  # size of wavelength array\n",
    "sbet_file = open(thedir + myfile)\n",
    "sbet_data = sbet_file.read()"
   ]
  },
  {
   "cell_type": "code",
   "execution_count": 38,
   "metadata": {
    "collapsed": false
   },
   "outputs": [
    {
     "name": "stdout",
     "output_type": "stream",
     "text": [
      "File has 195904 bytes, which is 24488.0 doubles\n",
      "Warning, Ndays should be an integer. Is it? 112.32718894\n",
      "24488 total doubles\n",
      "  113 values true for all dates, plus\n",
      "  217 values per day for 112 days\n",
      "24375 values that are per day\n",
      "Weird, I have 71 extra values\n",
      "DEBUG, last double was 24417\n",
      "There are 71 extra values near the beginning of the file:\n",
      "(nan, nan, nan, nan, nan, nan, nan, nan, nan, nan, nan, nan, nan, nan, nan, nan, nan, nan, nan, nan, nan, nan, nan, nan, 2.1219957905e-314, 4.2439915824e-314, 8.4879831653e-314, 1.27319747483e-313, 1.6975966331e-313, 2.1219957914e-313, 2.5463949497e-313, 2.970794108e-313, 3.3951932663e-313, 3.8195924246e-313, 4.24399158287e-313, 4.66839074116e-313, 5.09278989945e-313, 5.51718905774e-313, 5.94158821604e-313, 6.36598737433e-313, 6.7903865326e-313, 7.2147856909e-313, 7.6391848492e-313, 8.0635840075e-313, 8.4879831658e-313, 8.9123823241e-313, 9.33678148237e-313, 9.76118064066e-313, 1.018557979896e-312, 1.060997895725e-312, 1.103437811554e-312, 1.145877727383e-312, nan, nan, nan, nan, nan, nan, nan, nan, nan, nan, nan, nan, nan, nan, nan, nan, nan, nan, nan, nan, nan, nan, nan, nan, nan, nan, nan, nan, nan, nan, nan, nan, nan, nan, nan, nan, nan, nan, nan, nan, nan, nan, 1.188317642936e-312, 1.209537601127e-312, 1.251977516956e-312, 1.294417432785e-312, 1.336857348614e-312, 1.379297264444e-312, 1.421737180273e-312, 1.4641770961e-312, 1.50661701193e-312, 1.54905692776e-312, 1.59149684359e-312, 1.63393675942e-312, 1.67637667525e-312, 1.718816591077e-312, 1.761256506906e-312, 1.803696422735e-312, 1.846136338565e-312, 1.888576254394e-312, 1.931016170223e-312, 1.97345608605e-312, 2.01589600188e-312, 2.05833591771e-312, 2.10077583354e-312, 2.14321574937e-312, 2.1856556652e-312, 2.228095581027e-312, 2.270535496857e-312, 2.312975412686e-312, 2.355415328515e-312, nan, nan, nan, nan, nan, nan, nan, nan, nan, nan, nan, nan, nan, nan, nan, nan, nan, nan, nan, nan, nan, nan, nan, nan, nan, nan, nan, nan, nan, nan, nan, nan, nan, nan, nan, nan, nan, nan, nan, nan, nan, nan, nan, nan, nan, nan, nan, nan)\n"
     ]
    }
   ],
   "source": [
    "print \"File has\", len(sbet_data), \"bytes, which is\", len(sbet_data)/8., \"doubles\"\n",
    "allval = struct.unpack(str(len(sbet_data)/8) + 'd', sbet_data)\n",
    "perday = 1 + SL_NWAVE*2  # size of a daily chunk\n",
    "static = 5 + SL_NWAVE   # data for position, not time-variable\n",
    "Ndays = (len(allval)*1.0 - static)/ perday\n",
    "print \"Warning, Ndays should be an integer. Is it?\", Ndays\n",
    "Ndays = int(Ndays)\n",
    "print len(allval), \"total doubles\"\n",
    "print \" \", static, \"values true for all dates, plus\"\n",
    "print \" \", perday, \"values per day for\", Ndays, \"days\"\n",
    "print len(allval) - 5 - SL_NWAVE, \"values that are per day\"\n",
    "print \"Weird, I have\", len(allval) - static - perday*int(Ndays), \"extra values\"\n",
    "RAnew = allval[0]\n",
    "DECnew = allval[1]\n",
    "pos = allval[2:5]\n",
    "nonzodi_bg = allval[5:5+SL_NWAVE]\n",
    "day            = np.zeros(Ndays)\n",
    "zodi_bg        = np.zeros((Ndays,SL_NWAVE))\n",
    "stray_light_bg = np.zeros((Ndays,SL_NWAVE))\n",
    "for dd in range(0, int(Ndays)):\n",
    "    br1 = static + dd*perday\n",
    "    br2 = br1 + 1\n",
    "    br3 = br2 + SL_NWAVE\n",
    "    br4 = br3 + SL_NWAVE\n",
    "    #print \"Breaking at:\", br1, br2, br3, br4\n",
    "    day[dd]            = allval[br1]\n",
    "    #print \"DAY\", day\n",
    "    zodi_bg[dd, :]        = allval[br2 : br3]\n",
    "    stray_light_bg[dd, :] = allval[br3 : br4]\n",
    "print \"DEBUG, last double was\", br4\n",
    "#print \"DEBUGGING\", zodi_bg\n",
    "#print \"DEBUGGING\", stray_light_bg\n",
    "#print \"DEBUGGING\", allval[SL_NWAVE +5 : SL_NWAVE+5+SL_NWAVE]\n",
    "extraval = len(allval[br4 : len(allval)])\n",
    "print \"There are\", extraval, \"extra values near the beginning of the file:\"\n",
    "print allval[static :static+extraval+100]"
   ]
  },
  {
   "cell_type": "code",
   "execution_count": 35,
   "metadata": {
    "collapsed": false
   },
   "outputs": [
    {
     "data": {
      "image/png": "[encoded data removed]",
      "text/plain": [
       "<matplotlib.figure.Figure at 0x10e737750>"
      ]
     },
     "metadata": {},
     "output_type": "display_data"
    }
   ],
   "source": [
    "#plt.plot(wave_array, nonzodi_bg, label=\"ISM\")\n",
    "#plt.plot(wave_array, zodi_bg[24], label=\"Zodi\")\n",
    "#plt.plot(wave_array, stray_light_bg[0, :], label=\"Stray light\")\n",
    "#plt.legend()\n",
    "plt.plot(allval)\n",
    "plt.xlim(0,600)\n",
    "plt.ylim(0,60)\n",
    "plt.grid()"
   ]
  },
  {
   "cell_type": "code",
   "execution_count": null,
   "metadata": {
    "collapsed": true
   },
   "outputs": [],
   "source": []
  }
 ],
 "metadata": {
  "kernelspec": {
   "display_name": "Python 2",
   "language": "python",
   "name": "python2"
  },
  "language_info": {
   "codemirror_mode": {
    "name": "ipython",
    "version": 2
   },
   "file_extension": ".py",
   "mimetype": "text/x-python",
   "name": "python",
   "nbconvert_exporter": "python",
   "pygments_lexer": "ipython2",
   "version": "2.7.11"
  }
 },
 "nbformat": 4,
 "nbformat_minor": 0
}
