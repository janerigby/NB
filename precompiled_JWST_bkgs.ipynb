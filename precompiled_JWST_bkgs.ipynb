{
 "cells": [
  {
   "cell_type": "markdown",
   "metadata": {},
   "source": [
    "NB to show how to read STScI's precompiled background estimates for the ETC.  Want to make my own bathtub curves of zody vs time.  \n",
    "To read binary files, following tutorial at http://vislab-ccom.unh.edu/~schwehr/rt/python-binary-files.html"
   ]
  },
  {
   "cell_type": "code",
   "execution_count": null,
   "metadata": {
    "collapsed": true
   },
   "outputs": [],
   "source": [
    "# File description from email V Laidler 23 March 2017\n",
    "# C structure used to write the stray light binary file.\n",
    "# One record per file.\n",
    "#    typedef struct {\n",
    "#              double pix_ra;\n",
    "#              double pix_dec;\n",
    "#              double pos[3];\n",
    "#              double nonzodi_bg[SL_NWAVE];  // The in-field ism+cib for each pixel.\n",
    "#            } sl_pix;\n",
    "#              Then for every day with the target in the FOR,the following three items are written.\n",
    "#              double day;\n",
    "#              double zodi_bg[SL_NWAVE];  //  The combined in-field zodi for each pixel.\n",
    "#              double stray_light_bg[SL_NWAVE];  //The equivalent in-field background from stray light from zodi, stellar,ism, cib\n",
    "#The wavelength array is the standard one that we converged\n",
    "#on last year, so they are all on the same wavelength array\n",
    "#that is SL_NWAVE = 108 elements long."
   ]
  },
  {
   "cell_type": "code",
   "execution_count": 1,
   "metadata": {
    "collapsed": false
   },
   "outputs": [
    {
     "name": "stdout",
     "output_type": "stream",
     "text": [
      "Populating the interactive namespace from numpy and matplotlib\n"
     ]
    }
   ],
   "source": [
    "import struct\n",
    "import numpy as np\n",
    "%pylab inline"
   ]
  },
  {
   "cell_type": "code",
   "execution_count": 46,
   "metadata": {
    "collapsed": false
   },
   "outputs": [],
   "source": [
    "thedir = \"/Volumes/Apps_and_Docs/MISSIONS/JWST/Zody_bathtubs/\"  # Satchmo\n",
    "thedir = \"/Users/jrrigby1/MISSIONS/JWST/Zody_bathtubs/\" # Milk\n",
    "wave_file = \"updated_std_spectrum_wavelengths.txt\"  # Standard wavelength array.  Should be SL_NWave=108 long\n",
    "wave_array = np.loadtxt(thedir + wave_file)\n",
    "myfile = \"bg_samples_for_jane/sl_pix_000593.bin\" #sl_pix_099422.bin\" #\n",
    "#myfile = \"bg_samples_for_jane/sl_pix_099422.bin\" #\n",
    "SL_NWAVE = len(wave_array)  # should be 108.  Size of wavelength array\n",
    "sbet_file = open(thedir + myfile)\n",
    "sbet_data = sbet_file.read()"
   ]
  },
  {
   "cell_type": "code",
   "execution_count": 55,
   "metadata": {
    "collapsed": false
   },
   "outputs": [
    {
     "name": "stdout",
     "output_type": "stream",
     "text": [
      "File has 373888 bytes, which is 46736.0 doubles\n",
      "Warning, Ndays should be an integer. Is it? 215.0\n",
      "46735 is last index of allval\n",
      "  296 values true for all dates, plus\n",
      "  216 values per day for 215 days\n",
      "(2.121995791e-314, 6.365987374e-314, 1.0609978957e-313, 1.48539705397e-313, 1.90979621226e-313, 2.33419537056e-313, 2.75859452885e-313, 3.18299368714e-313, 3.60739284543e-313, 4.0317920037e-313, 4.456191162e-313, 4.8805903203e-313, 5.3049894786e-313, 5.7293886369e-313, 6.1537877952e-313, 6.57818695347e-313, 7.00258611177e-313, 7.42698527006e-313, 7.85138442835e-313, 8.27578358664e-313, 8.70018274493e-313, 9.12458190323e-313, 9.5489810615e-313, 9.9733802198e-313, 1.03977793781e-312, 1.08221785364e-312, 1.12465776947e-312, 1.1670976853e-312, 1.209537601127e-312, 1.251977516956e-312, 1.294417432785e-312, 1.336857348614e-312, 1.379297264444e-312, 1.421737180273e-312, 1.4641770961e-312, 1.50661701193e-312, 1.54905692776e-312, 1.59149684359e-312, 1.63393675942e-312, 1.67637667525e-312, 1.718816591077e-312, 1.761256506906e-312, 1.803696422735e-312, 1.846136338565e-312, 1.888576254394e-312, 1.931016170223e-312, 1.97345608605e-312, 2.01589600188e-312, 2.05833591771e-312, 2.10077583354e-312, nan, nan, nan, nan, nan, nan, nan, nan, nan, nan, nan, nan, nan, nan, nan, nan, nan, nan, nan, nan, nan, nan, nan, nan, nan, nan, nan, nan, nan, nan, nan, nan, nan, nan, nan, nan, nan, nan, nan, nan, nan, nan, nan, nan, nan, nan, nan, nan, nan, nan, nan, nan, nan, nan, nan, nan, nan, nan, nan, nan, nan, nan, nan, nan, nan, nan, nan, nan, nan, nan, nan, nan, nan, nan, nan, 2.14321574887e-312, 2.164435707284e-312, 2.206875623113e-312, 2.24931553894e-312, 2.29175545477e-312, 2.3341953706e-312, 2.37663528643e-312, 2.41907520226e-312, 2.46151511809e-312, 2.503955033917e-312, 2.546394949746e-312, 2.588834865575e-312, 2.631274781405e-312, 2.673714697234e-312, 2.716154613063e-312, 2.75859452889e-312, 2.80103444472e-312, 2.84347436055e-312, 2.88591427638e-312, 2.92835419221e-312, 2.97079410804e-312, 3.013234023867e-312, 3.055673939697e-312, 3.098113855526e-312, 3.140553771355e-312, 3.182993687184e-312, 3.225433603013e-312, 3.26787351884e-312, 3.31031343467e-312, 3.3527533505e-312, 3.39519326633e-312, 3.43763318216e-312, 3.48007309799e-312, 3.52251301382e-312, 3.564952929647e-312, 3.607392845476e-312, 3.649832761305e-312, 3.692272677134e-312, 3.734712592963e-312, 3.777152508793e-312, 3.81959242462e-312, 3.86203234045e-312, 3.90447225628e-312, 3.94691217211e-312, 3.98935208794e-312, 4.03179200377e-312, 4.074231919597e-312, 4.116671835426e-312, 4.159111751255e-312, 4.201551667085e-312, 4.243991582914e-312, 4.286431498743e-312, 4.32887141457e-312, 4.3713113304e-312, 4.41375124623e-312, 4.45619116206e-312, 4.49863107789e-312, 4.54107099372e-312)\n"
     ]
    }
   ],
   "source": [
    "print \"File has\", len(sbet_data), \"bytes, which is\", len(sbet_data)/8., \"doubles\"\n",
    "extra_junk = 183 # There are 183 extra doubles before the date-by-date that I cant explain\n",
    "allval = struct.unpack(str(len(sbet_data)/8) + 'd', sbet_data)\n",
    "#perday = 1 + SL_NWAVE*2  # size of a daily chunk\n",
    "perday = SL_NWAVE*2  # size of a daily chunk\n",
    "static = 5 + SL_NWAVE + extra_junk  # data for position, not time-variable\n",
    "Ndays = (len(allval)*1.0 - static)/ perday   # if we subtract 2 here, get Ndays as int\n",
    "print \"Warning, Ndays should be an integer. Is it?\", Ndays\n",
    "Ndays = int(Ndays)\n",
    "print len(allval)-1, \"is last index of allval\"\n",
    "print \" \", static, \"values true for all dates, plus\"\n",
    "print \" \", perday, \"values per day for\", Ndays, \"days\"\n",
    "RA = allval[0]\n",
    "DEC = allval[1]\n",
    "pos = allval[2:5]\n",
    "nonzodi_bg = allval[5:5+SL_NWAVE]\n",
    "whatisthis = allval[5 + SL_NWAVE  : static]  # Ask Vicki, what is this extra stuff?\n",
    "print whatisthis"
   ]
  },
  {
   "cell_type": "code",
   "execution_count": 48,
   "metadata": {
    "collapsed": false
   },
   "outputs": [
    {
     "name": "stdout",
     "output_type": "stream",
     "text": [
      "46736 was last double\n"
     ]
    }
   ],
   "source": [
    "#day            = np.zeros(Ndays)\n",
    "zodi_bg        = np.zeros((Ndays,SL_NWAVE))\n",
    "stray_light_bg = np.zeros((Ndays,SL_NWAVE))\n",
    "for dd in range(0, int(Ndays)):\n",
    "    br1 = static +  dd*perday\n",
    "    br2 = br1\n",
    "    br3 = br2 + SL_NWAVE\n",
    "    br4 = br3 + SL_NWAVE\n",
    "    #print \"Breaking at:\", br1, br2, br3, br4, br2-br1, br3-br2, br4-br3\n",
    "    #day[dd]               = allval[br1]\n",
    "    zodi_bg[dd, ]        = allval[br2 : br3]\n",
    "    stray_light_bg[dd, ] = allval[br3 : br4]\n",
    "print br4, \"was last double\" \n",
    "#print \"DEBUGGING\", zodi_bg\n",
    "#print \"DEBUGGING\", stray_light_bg"
   ]
  },
  {
   "cell_type": "code",
   "execution_count": 26,
   "metadata": {
    "collapsed": false
   },
   "outputs": [
    {
     "data": {
      "image/png": "[encoded data removed]",
      "text/plain": [
       "<matplotlib.figure.Figure at 0x110e60dd0>"
      ]
     },
     "metadata": {},
     "output_type": "display_data"
    }
   ],
   "source": [
    "plt.plot(allval)\n",
    "plt.xlim(0,1000)\n",
    "#plt.ylim(0,30)\n",
    "plt.grid()"
   ]
  },
  {
   "cell_type": "code",
   "execution_count": 56,
   "metadata": {
    "collapsed": false
   },
   "outputs": [
    {
     "data": {
      "text/plain": [
       "<matplotlib.legend.Legend at 0x111953b10>"
      ]
     },
     "execution_count": 56,
     "metadata": {},
     "output_type": "execute_result"
    },
    {
     "data": {
      "image/png": "[encoded data removed]",
      "text/plain": [
       "<matplotlib.figure.Figure at 0x11145a890>"
      ]
     },
     "metadata": {},
     "output_type": "display_data"
    }
   ],
   "source": [
    "thisday = 100\n",
    "plt.plot(wave_array, nonzodi_bg, label=\"ISM\")\n",
    "plt.plot(wave_array, zodi_bg[thisday, :], label=\"Zodi\")\n",
    "plt.plot(wave_array, stray_light_bg[thisday, :], label=\"Stray light\")\n",
    "plt.xlim(0.6,31)\n",
    "plt.legend()"
   ]
  },
  {
   "cell_type": "code",
   "execution_count": null,
   "metadata": {
    "collapsed": true
   },
   "outputs": [],
   "source": []
  }
 ],
 "metadata": {
  "kernelspec": {
   "display_name": "Python 2",
   "language": "python",
   "name": "python2"
  },
  "language_info": {
   "codemirror_mode": {
    "name": "ipython",
    "version": 2
   },
   "file_extension": ".py",
   "mimetype": "text/x-python",
   "name": "python",
   "nbconvert_exporter": "python",
   "pygments_lexer": "ipython2",
   "version": "2.7.11"
  }
 },
 "nbformat": 4,
 "nbformat_minor": 0
}
