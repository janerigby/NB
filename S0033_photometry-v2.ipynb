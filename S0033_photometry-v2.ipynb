{
 "cells": [
  {
   "cell_type": "markdown",
   "metadata": {},
   "source": [
    "### Basic aperture photometry using weirdly-shaped apertures, using ds9 regions files, and pyregion to filter the images by those regions"
   ]
  },
  {
   "cell_type": "markdown",
   "metadata": {},
   "source": [
    "This adapts my pyregion tutorial, to do simple photometry of HST for SGAS J0033."
   ]
  },
  {
   "cell_type": "code",
   "execution_count": 45,
   "metadata": {},
   "outputs": [],
   "source": [
    "import numpy as np\n",
    "from astropy.io import fits\n",
    "from astropy.utils.data import download_file\n",
    "from astropy.io.fits import getdata\n",
    "import pyds9\n",
    "import pyregion"
   ]
  },
  {
   "cell_type": "code",
   "execution_count": 46,
   "metadata": {},
   "outputs": [],
   "source": [
    "# Set up locations\n",
    "imdir = \"/Users/jrrigby1/Dropbox/S0033/HST/\"\n",
    "imfile1 = \"final_images/SGAS0033_F410M_full_0.03g0.5_drc_sci.fits\"\n",
    "imfile2 = \"final_images/SGAS0033_F555W_0.03g0.5_drc_sci.fits\"\n",
    "d = pyds9.DS9('foo1')  # start ds9.  'd' is the way to call ds9\n",
    "#d = pyds9.DS9('809ab48d:63115')"
   ]
  },
  {
   "cell_type": "code",
   "execution_count": 57,
   "metadata": {},
   "outputs": [],
   "source": [
    "def adjust_ds9():\n",
    "    d.set(\"colorbar no\")   # example of manipulating the ds9 window\n",
    "    d.set(\"scale zscale\")  # example of manipulating the ds9 window\n",
    "    d.set(\"zoom to 1.5 1.5\")\n",
    "    d.set(\"pan to 2460 1920\")\n",
    "    return(0)\n",
    "\n",
    "def pyregions_photometry(object_region, sky_region, im) :  # This was workaround for old pyreg\n",
    "    myfilter   = object_region.get_filter()\n",
    "    bkgfilter  = sky_region.get_filter()\n",
    "    total_flux = np.nansum(myfilter.mask(im) * im)  #nansum treats nans as zeros for summation\n",
    "    npix_reg   = np.count_nonzero(myfilter.mask(im))\n",
    "    npix_bkg   = np.count_nonzero(bkgfilter.mask(im))\n",
    "    bkg_med    = np.nanmean(bkgfilter.mask(im) * im)\n",
    "    bkg_flux   = bkg_med * npix_reg / npix_bkg\n",
    "    net_flux   = total_flux - bkg_flux\n",
    "    print \"Npix in regions\", npix_reg, npix_bkg\n",
    "    return(total_flux, bkg_flux, net_flux)\n",
    "\n",
    "def pyregions_photometry2(regfile, bkgregfile, imagefile):\n",
    "    f = fits.open(imagefile)\n",
    "    dum = f[0].data  # screwing around to get hdu as pyregions wants it\n",
    "    im = dum.astype(np.float64)\n",
    "    d.set_np2arr(im) # sending ndarray im directly to ds9\n",
    "    reg = pyregion.open(regfile).as_imagecoord(f[0].header)\n",
    "    bkg = pyregion.open(bkgregfile).as_imagecoord(f[0].header)\n",
    "    d.set('regions load', regfile)\n",
    "    d.set('regions load', bkgregfile)\n",
    "    npix_reg   = np.count_nonzero(reg.get_mask(f[0]) * im)\n",
    "    npix_bkg   = np.count_nonzero(bkg.get_mask(f[0]) * im)\n",
    "    total_flux = np.nansum(reg.get_mask(f[0]) * im)\n",
    "    bkg_mean   = np.nanmean(bkg.get_mask(f[0]) * im)\n",
    "    bkg_flux   = bkg_mean * npix_reg / npix_bkg\n",
    "    net_flux = total_flux - bkg_flux\n",
    "#    return(total_flux, bkg_flux, net_flux)\n",
    "    return(net_flux)"
   ]
  },
  {
   "cell_type": "code",
   "execution_count": 61,
   "metadata": {},
   "outputs": [
    {
     "name": "stdout",
     "output_type": "stream",
     "text": [
      "final_images/SGAS0033_F555W_0.03g0.5_drc_sci.fits F555W 1 4.1860940905 24.2694775357\n",
      "final_images/SGAS0033_F555W_0.03g0.5_drc_sci.fits F555W 2 7.73839853997 23.6023722679\n",
      "final_images/SGAS0033_F555W_0.03g0.5_drc_sci.fits F555W 3 3.65794037419 24.4159084449\n",
      "final_images/SGAS0033_F555W_0.03g0.5_drc_sci.fits F555W 4 34.0169399509 21.9947618916\n",
      "final_images/SGAS0033_F555W_0.03g0.5_drc_sci.fits F555W 5 13.5358312237 22.9952876736\n",
      "final_images/SGAS0033_F555W_0.03g0.5_drc_sci.fits F555W 6 6.82633233118 23.7385314312\n",
      "final_images/SGAS0033_F555W_0.03g0.5_drc_sci.fits F555W 7 35.6442146447 21.9440273743\n",
      "final_images/SGAS0033_F410M_full_0.03g0.5_drc_sci.fits F410M 1 0.532778037844 24.2976342148\n",
      "final_images/SGAS0033_F410M_full_0.03g0.5_drc_sci.fits F410M 2 0.20537411793 25.3326357221\n",
      "final_images/SGAS0033_F410M_full_0.03g0.5_drc_sci.fits F410M 3 0.384537234989 24.651654002\n",
      "final_images/SGAS0033_F410M_full_0.03g0.5_drc_sci.fits F410M 4 5.38035884227 21.7869718954\n",
      "final_images/SGAS0033_F410M_full_0.03g0.5_drc_sci.fits F410M 5 2.27929399918 22.7194991322\n",
      "final_images/SGAS0033_F410M_full_0.03g0.5_drc_sci.fits F410M 6 1.07206135712 23.5384508951\n",
      "final_images/SGAS0033_F410M_full_0.03g0.5_drc_sci.fits F410M 7 5.67078046693 21.7298929131\n"
     ]
    }
   ],
   "source": [
    "filters = ('F555W', 'F410M')\n",
    "AB_zpt  = (25.824, 23.614)\n",
    "images  = (imfile2, imfile1)\n",
    "for jj, image in enumerate(images):\n",
    "    for ii in range(1,7+1,1) :\n",
    "        net_flux = pyregions_photometry2(imdir + 'Regions/mike_phot555_'+str(ii)+'.reg', imdir + 'Regions/mike_phot555_bkg.reg', imdir + image)\n",
    "        mAB = -2.5*np.log10(net_flux) + AB_zpt[jj]\n",
    "        print image, filters[jj], ii, net_flux, mAB"
   ]
  },
  {
   "cell_type": "code",
   "execution_count": 68,
   "metadata": {},
   "outputs": [
    {
     "name": "stdout",
     "output_type": "stream",
     "text": [
      "Try mutiplying the F555W image by 0.118285497317 , and use that to continuum subtract F410M\n"
     ]
    }
   ],
   "source": [
    "''' As a side result, can now figure out how to cont-sub the F410M image\n",
    "F410M has bandpass of 70A.    Observed EW=203A.  So, f(Lya)=2.9*f(cont)\n",
    "f(Lya) = (F410M) - f(cont)\n",
    "f(F410M) = f(Lya) + f(cont)\n",
    "         = f(Lya) + 1/2.9*f(Lya)\n",
    "         = 1.345 f(Lya)\n",
    "f(Lya) = 0.744 f(F410M) \n",
    "'''\n",
    "cts_F555W = 35.6442146447  # Copy and pasted from above\n",
    "cts_F410M = 5.67078046693\n",
    "\n",
    "corr_factor = (cts_F410M / cts_F555W) / 1.345\n",
    "print \"Try mutiplying the F555W image by\", corr_factor, \", and use that to continuum subtract F410M\"\n",
    "# Looks pretty good.  Done this task."
   ]
  },
  {
   "cell_type": "markdown",
   "metadata": {
    "collapsed": true
   },
   "source": [
    "Let's translate above into plain English:  F410M was the medium band filter, and F555W the continuum filter. Given the high equivalent width of Lyman alpha in the MagE spectrum, EW_obs=203A, and the F410M bandpass of 70A, we calculate that Lyman alpha contributes 74% of the flux in F410M, with the remainder coming from continuum.  We then scale the F555W image to match that continuum level, using annular aperture photometry of SGAS0033 in the F410M and F555W HST images, covering the same region as the MagE aperture. (sent this to Travis 2/19/2019 to address referee comment.)"
   ]
  },
  {
   "cell_type": "code",
   "execution_count": null,
   "metadata": {},
   "outputs": [],
   "source": []
  }
 ],
 "metadata": {
  "kernelspec": {
   "display_name": "Python 2",
   "language": "python",
   "name": "python2"
  },
  "language_info": {
   "codemirror_mode": {
    "name": "ipython",
    "version": 2
   },
   "file_extension": ".py",
   "mimetype": "text/x-python",
   "name": "python",
   "nbconvert_exporter": "python",
   "pygments_lexer": "ipython2",
   "version": "2.7.14"
  }
 },
 "nbformat": 4,
 "nbformat_minor": 1
}
