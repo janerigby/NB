{
 "cells": [
  {
   "cell_type": "markdown",
   "metadata": {},
   "source": [
    "### Using pyds9 and pyregion to do simple photometry on s2222 qso host galaxy."
   ]
  },
  {
   "cell_type": "code",
   "execution_count": 7,
   "metadata": {
    "collapsed": false
   },
   "outputs": [],
   "source": [
    "import numpy as np\n",
    "from astropy.io import fits\n",
    "from astropy.io.fits import getdata\n",
    "import pyds9\n",
    "import pyregion"
   ]
  },
  {
   "cell_type": "code",
   "execution_count": 59,
   "metadata": {
    "collapsed": false
   },
   "outputs": [
    {
     "name": "stdout",
     "output_type": "stream",
     "text": [
      "Simple aperture photometry\n",
      "image                        filter   flux_in_aperture  flux_in_bkg   net_flux\n",
      "crop1_test11_Aa_s01_out.fits F814W 1.41657587677 0.249621147579 1.16695472919\n",
      "crop2_test22_Aa_s01_out.fits F606W 1.80349407305 0.251288323241 1.55220574981\n",
      "crop3_test33_Aa_s01_out.fits F436W 0.453654580127 0.078351113063 0.375303467064\n"
     ]
    }
   ],
   "source": [
    "dir = \"/Volumes/Apps_and_Docs/jrrigby1/Dropbox/SGAS-shared/S2222/Src_plane/\"\n",
    "image_files = (\"crop1_test11_Aa_s01_out.fits\", \"crop2_test22_Aa_s01_out.fits\", \"crop3_test33_Aa_s01_out.fits\")\n",
    "filters = (\"F814W\", \"F606W\", \"F436W\")\n",
    "\n",
    "print \"Simple aperture photometry\"\n",
    "print \"image                        filter   flux_in_aperture  flux_in_bkg   net_flux\"\n",
    "\n",
    "for ii, image in enumerate(image_files) :\n",
    "    f = fits.open(dir + image)\n",
    "    dum = f[0].data  # screwing around to get hdu as pyregions wants it\n",
    "    im = dum.astype(np.float64)\n",
    "    #im +=0.00 # im is a numpy array, so we can do math on it.\n",
    "    d = pyds9.DS9('ds9')  # start ds9.  'd' is the way to call ds9\n",
    "    d.set_np2arr(im) # sending ndarray im directly to ds9\n",
    "    d.set(\"zoom to fit\")\n",
    "    \n",
    "    bad  = pyregion.open(dir + \"mask_region2.reg\")\n",
    "    src  = pyregion.open(dir + \"bigpoly.reg\")\n",
    "    bkg  = pyregion.open(dir + \"box_backgrounds2.reg\")\n",
    "    gross_flux = np.sum(src.get_mask(f[0]) * im) - np.sum(bad.get_mask(f[0]) * im)\n",
    "    Npix = src.get_mask(f[0]).sum() - bad.get_mask(f[0]).sum()\n",
    "    bkg_flux = np.median(im[bkg.get_mask(f[0])]) * Npix\n",
    "    print image, filters[ii], gross_flux, bkg_flux, gross_flux - bkg_flux"
   ]
  },
  {
   "cell_type": "code",
   "execution_count": 12,
   "metadata": {
    "collapsed": false
   },
   "outputs": [],
   "source": []
  },
  {
   "cell_type": "code",
   "execution_count": null,
   "metadata": {
    "collapsed": true
   },
   "outputs": [],
   "source": []
  }
 ],
 "metadata": {
  "kernelspec": {
   "display_name": "Python 2",
   "language": "python",
   "name": "python2"
  },
  "language_info": {
   "codemirror_mode": {
    "name": "ipython",
    "version": 2
   },
   "file_extension": ".py",
   "mimetype": "text/x-python",
   "name": "python",
   "nbconvert_exporter": "python",
   "pygments_lexer": "ipython2",
   "version": "2.7.12"
  }
 },
 "nbformat": 4,
 "nbformat_minor": 0
}
