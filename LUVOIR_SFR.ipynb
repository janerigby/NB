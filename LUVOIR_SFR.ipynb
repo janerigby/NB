{
 "cells": [
  {
   "cell_type": "markdown",
   "metadata": {},
   "source": [
    "#### LUVOIR science case: Spectroscopy of outflows from star-forming regions in distant galaxies.  jrigby, 14 June 2016"
   ]
  },
  {
   "cell_type": "code",
   "execution_count": 89,
   "metadata": {
    "collapsed": false
   },
   "outputs": [
    {
     "name": "stdout",
     "output_type": "stream",
     "text": [
      "Using matplotlib backend: MacOSX\n",
      "Populating the interactive namespace from numpy and matplotlib\n"
     ]
    }
   ],
   "source": [
    "%pylab\n",
    "%matplotlib inline\n",
    "from astropy.modeling.functional_models import Gaussian2D\n",
    "from astropy.utils.data import download_file\n",
    "from astropy.io import fits\n",
    "import pyds9\n",
    "import pyregion\n",
    "from astropy.wcs import WCS\n",
    "from astropy.wcs.utils import proj_plane_pixel_scales\n",
    "from astropy import units\n",
    "from astropy.cosmology import WMAP9 as cosmo"
   ]
  },
  {
   "cell_type": "code",
   "execution_count": 90,
   "metadata": {
    "collapsed": false
   },
   "outputs": [],
   "source": [
    "def Jy2AB(Jy): \n",
    "    AB = -2.5 * log10(Jy * 1E-23) - 48.57\n",
    "    return(AB)"
   ]
  },
  {
   "cell_type": "code",
   "execution_count": 91,
   "metadata": {
    "collapsed": true
   },
   "outputs": [],
   "source": [
    "# Let's set some variables\n",
    "D = 10.0 #telescope diameter, in m\n",
    "zz = 2.0\n",
    "restwave = 1334 # in Angstroms.  This is C II, a strong ISM absorption line"
   ]
  },
  {
   "cell_type": "code",
   "execution_count": 104,
   "metadata": {
    "collapsed": false
   },
   "outputs": [
    {
     "name": "stdout",
     "output_type": "stream",
     "text": [
      "<type 'float'>\n",
      "Diffraction limit was  0.0082547253 arcsec\n",
      " at a wavelength of 4002.0 Angstroms\n"
     ]
    }
   ],
   "source": [
    "# Derived quantities\n",
    "D_L = cosmo.luminosity_distance(zz)  # units are Mpc\n",
    "D_L = D_L.to(units.cm).value\n",
    "print type(D_L)\n",
    "wave = restwave * (1.+zz) # in Angstroms\n",
    "diflim = wave * 1E-10 / D * 206265 # in arcsec\n",
    "pix_scale = diflim / 2. # Temporarily assuming Nyquist-sampling the diffraction-limit\n",
    "print \"Diffraction limit was \", diflim, \"arcsec\"\n",
    "print \" at a wavelength of\", wave, \"Angstroms\""
   ]
  },
  {
   "cell_type": "markdown",
   "metadata": {},
   "source": [
    "Hmm, this is close to the pixel scale of S1110 source-plane reconstructions (0.003\"/pix).  Optionally, could blur slightly with hacked version of candelize_*py. But that's weird b/c mag isn't same in x, y.  Ponder this."
   ]
  },
  {
   "cell_type": "code",
   "execution_count": 93,
   "metadata": {
    "collapsed": false
   },
   "outputs": [
    {
     "name": "stdout",
     "output_type": "stream",
     "text": [
      "Angular size of galaxy is:\n",
      "0.85865198615 arcsec, which is  208.0 pixels across\n"
     ]
    }
   ],
   "source": [
    "gal_size = 7. # kpc\n",
    "kpc_per_arcsec = (1./ cosmo.arcsec_per_kpc_proper(1.0)).value  # kpc in 1 arcsec, should be ~8\n",
    "ang_size = gal_size / kpc_per_arcsec\n",
    "print \"Angular size of galaxy is:\\n\", ang_size, \"arcsec,\",\n",
    "print \"which is \", round(ang_size / pix_scale), \"pixels across\""
   ]
  },
  {
   "cell_type": "markdown",
   "metadata": {},
   "source": [
    "This cries out for an IFU! How would that work? Even a 1K x 1K would be amazing."
   ]
  },
  {
   "cell_type": "code",
   "execution_count": 94,
   "metadata": {
    "collapsed": false
   },
   "outputs": [
    {
     "name": "stdout",
     "output_type": "stream",
     "text": [
      "IFU of 1024 by 1024 has FOV 4.2264193536 arcsec\n"
     ]
    }
   ],
   "source": [
    "size_IFU = 1024 # N pix on a side\n",
    "fov = size_IFU * pix_scale\n",
    "print \"IFU of\", size_IFU, \"by\", size_IFU, \"has FOV\", fov, \"arcsec\""
   ]
  },
  {
   "cell_type": "markdown",
   "metadata": {},
   "source": [
    "Hmm, so similar FOV to JWST IFU, but much finer pixels."
   ]
  },
  {
   "cell_type": "code",
   "execution_count": 95,
   "metadata": {
    "collapsed": false
   },
   "outputs": [
    {
     "name": "stdout",
     "output_type": "stream",
     "text": [
      "0.03 Msol/yr for a R= 100.0 pc clump\n",
      "fnu1 =  2.13189388486e-09 Jy, AB1= 30.6080860403\n"
     ]
    }
   ],
   "source": [
    "# How bright would a SF region be?  From Livermore et al. (2015), Figure 8, \n",
    "# at z~2 the typical measured SFR/surface area is: \n",
    "SB = 3.0 /(np.pi * 1E3**2)  # units of Msol/yr/pc^2\n",
    "R = 100. # pc, size of a typical region\n",
    "clump_sfr = SB * np.pi * R**2  # Msol/yr\n",
    "print clump_sfr, \"Msol/yr for a R=\", R, \"pc clump\"\n",
    "fnu1 = clump_sfr / 1.4E-28 /(4.*np.pi * D_L**2)*(1+zz)/1E-23  #(Jy) eqn 1 of Kennicutt 1998, w bandwidth compression\n",
    "print \"fnu1 = \", fnu1, \"Jy, AB1=\", Jy2AB(fnu1)"
   ]
  },
  {
   "cell_type": "markdown",
   "metadata": {},
   "source": [
    "\n",
    "Get simulated z=2.03 galaxy from Greg Snynder's simulations w 12m LUVOIR."
   ]
  },
  {
   "cell_type": "code",
   "execution_count": 100,
   "metadata": {
    "collapsed": false
   },
   "outputs": [
    {
     "name": "stdout",
     "output_type": "stream",
     "text": [
      "0.006\n"
     ]
    },
    {
     "data": {
      "text/plain": [
       "1"
      ]
     },
     "execution_count": 100,
     "metadata": {},
     "output_type": "execute_result"
    }
   ],
   "source": [
    "image_file = \"/Users/jrrigby1/WORK/LUVOIR/SFR_sci_case/Snyder_sims/VELA27/VELA27_a0.330_CAMERA0-BROADBAND_SB25_HDST12_b.fits\"\n",
    "#(image, hdr) = fits.getdata(file, header=True) #image is numpy array\n",
    "ff = fits.open(image_file)\n",
    "# Greg says units are \"Fluxes are in observed nanojanskies/Sr, at least according to the headers I saved with them a year or two ago.  \"\n",
    "flux_const = 2.35044E-11 * sim_pixscale**2 * 1E-9  # convert Greg's units to Jy/pix\n",
    "sim_pixscale = ff[0].header['pixscale']  # \"/pix\n",
    "print sim_pixscale\n",
    "image = ff[0].data  # screwing around to get hdu as pyregions wants it\n",
    "image += 0.0 # image is a np ndarray, so you can do math on it\n",
    "d = pyds9.DS9('foo1')  # start ds9.  'd' is now the way to call ds9\n",
    "d.set_np2arr(image)\n",
    "d.set(\"colorbar no\")   \n",
    "d.set(\"scale zscale\")  "
   ]
  },
  {
   "cell_type": "code",
   "execution_count": 97,
   "metadata": {
    "collapsed": false
   },
   "outputs": [
    {
     "name": "stdout",
     "output_type": "stream",
     "text": [
      "8.8730586546e-07 24.059816619 4.69319651893e-09 29.7513281503\n"
     ]
    }
   ],
   "source": [
    "# load a regions file\n",
    "reg_name = \"/Users/jrrigby1/WORK/LUVOIR/SFR_sci_case/Snyder_sims/test4.reg\"\n",
    "bkg_reg =  \"/Users/jrrigby1/WORK/LUVOIR/SFR_sci_case/Snyder_sims/blank.reg\"\n",
    "all_reg = \"/Users/jrrigby1/WORK/LUVOIR/SFR_sci_case/Snyder_sims/all.reg\"\n",
    "d.set('regions load', reg_name)  # load that region in ds9\n",
    "\n",
    "b = pyregion.open(bkg_reg).as_imagecoord(header=ff[0].header) \n",
    "bkg_level = np.median(b.get_mask(ff[0]) * image)   # median bkg in image\n",
    "\n",
    "a = pyregion.open(all_reg).as_imagecoord(header=ff[0].header)  # big aperture, all flux\n",
    "f_tot = (np.sum(a.get_mask(ff[0])*image) -  bkg_level * np.sum(a.get_mask(ff[0])))*flux_const\n",
    "\n",
    "r = pyregion.open(reg_name).as_imagecoord(header=ff[0].header)  # small aperture\n",
    "f_clump = (np.sum(r.get_mask(ff[0])*image) -  bkg_level * np.sum(r.get_mask(ff[0])))*flux_const\n",
    "\n",
    "print f_tot, Jy2AB(f_tot), f_clump, Jy2AB(f_clump)"
   ]
  },
  {
   "cell_type": "markdown",
   "metadata": {},
   "source": [
    "OK, so if I understood Greg's units, his example galaxy has an m_AB(B)=24.0, and a given R=400pc clump is about m_AB(B)=29.7. More or less consistent w Livermore scaling above, since Livermore picked brightest regions. "
   ]
  },
  {
   "cell_type": "markdown",
   "metadata": {},
   "source": [
    "JT's **imaging** ETC says: \n",
    "u-band: D=12m, t=1hr, m_AB=29 gives S/N=34\n",
    "B-band: D=12m, t=1hr, m_AB=29.7 gives S/N=37.\n",
    "So, we can certainly image such lumps, but we can't get good spectra.\n",
    "What about bigger slices of the galaxy?  (20 slices would each be down 3.2 mags from the total, ~27.3 each)"
   ]
  },
  {
   "cell_type": "markdown",
   "metadata": {},
   "source": [
    "  Also, out to what redshift in the nearby universe could one do Crowther 2016 paper?  "
   ]
  },
  {
   "cell_type": "code",
   "execution_count": null,
   "metadata": {
    "collapsed": true
   },
   "outputs": [],
   "source": []
  },
  {
   "cell_type": "code",
   "execution_count": null,
   "metadata": {
    "collapsed": true
   },
   "outputs": [],
   "source": []
  }
 ],
 "metadata": {
  "kernelspec": {
   "display_name": "Python 2",
   "language": "python",
   "name": "python2"
  },
  "language_info": {
   "codemirror_mode": {
    "name": "ipython",
    "version": 2
   },
   "file_extension": ".py",
   "mimetype": "text/x-python",
   "name": "python",
   "nbconvert_exporter": "python",
   "pygments_lexer": "ipython2",
   "version": "2.7.12"
  }
 },
 "nbformat": 4,
 "nbformat_minor": 0
}
