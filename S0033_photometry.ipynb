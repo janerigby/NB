{
 "cells": [
  {
   "cell_type": "markdown",
   "metadata": {},
   "source": [
    "### Basic aperture photometry using weirdly-shaped apertures, using ds9 regions files, and pyregion to filter the images by those regions"
   ]
  },
  {
   "cell_type": "markdown",
   "metadata": {},
   "source": [
    "This adapts my pyregion tutorial, to do simple photometry of HST for SGAS J0033."
   ]
  },
  {
   "cell_type": "code",
   "execution_count": 1,
   "metadata": {
    "collapsed": false
   },
   "outputs": [],
   "source": [
    "import numpy as np\n",
    "from astropy.io import fits\n",
    "from astropy.utils.data import download_file\n",
    "from astropy.io.fits import getdata\n",
    "import pyds9\n",
    "import pyregion"
   ]
  },
  {
   "cell_type": "code",
   "execution_count": 2,
   "metadata": {
    "collapsed": false
   },
   "outputs": [
    {
     "data": {
      "text/plain": [
       "1"
      ]
     },
     "execution_count": 2,
     "metadata": {},
     "output_type": "execute_result"
    }
   ],
   "source": [
    "# Set up locations\n",
    "imdir = \"/Users/jrrigby1/Dropbox/S0033/HST/\"\n",
    "imfile1 = imdir + \"final_images/SGAS0033_F410M_full_0.03g0.5_drc_sci.fits\"\n",
    "imfile2 = imdir + \"final_images/SGAS0033_F555W_0.03g0.5_drc_sci.fits\"\n",
    "reg = 'image;box(2465.6667,1928.6667,17.51326,92.948953,20)'\n",
    "bkg = 'image;box(2365.6667,1928.6667,17.51326,200.948953,20)'\n",
    "\n",
    "f = fits.open(imfile1)\n",
    "dum = f[0].data  # screwing around to get hdu as pyregions wants it\n",
    "im = dum.astype(np.float64)\n",
    "f2 = fits.open(imfile2)\n",
    "dum2 = f2[0].data  # screwing around to get hdu as pyregions wants it\n",
    "im2 = dum2.astype(np.float64)\n",
    "\n",
    "#(im_int, hdr) = getdata(image_file, header=True) #image is numpy array\n",
    "#d = pyds9.DS9('foo1')  # start ds9.  'd' is the way to call ds9\n",
    "d = pyds9.DS9('/var/folders/ly/n6803yys5cs9tw41zytqgmvcmz2qhx/T//DS9_foo1.39834')\n",
    "d.set_np2arr(im) # sending ndarray im directly to ds9\n",
    "d.set(\"colorbar no\")   # example of manipulating the ds9 window\n",
    "d.set(\"scale zscale\")  # example of manipulating the ds9 window\n",
    "d.set(\"zoom to 1.5 1.5\")\n",
    "d.set(\"pan to 2460 1920\")\n",
    "\n",
    "mreg = pyregion.open(imdir + 'mike_phot555.reg').as_imagecoord(f[0].header)\n",
    "mbkg = pyregion.open(imdir + 'mike_phot555_bkg.reg').as_imagecoord(f[0].header)\n",
    "r = pyregion.parse(reg)\n",
    "b = pyregion.parse(bkg)\n",
    "d.set('regions', reg)\n",
    "d.set('regions', bkg)"
   ]
  },
  {
   "cell_type": "code",
   "execution_count": 20,
   "metadata": {
    "collapsed": false
   },
   "outputs": [],
   "source": [
    "def pyregions_photometry(object_region, sky_region, im) :  # This was workaround for old pyreg\n",
    "    # Pyregions is barfing on simpler method\n",
    "    myfilter   = object_region.get_filter()\n",
    "    bkgfilter  = sky_region.get_filter()\n",
    "    total_flux = np.nansum(myfilter.mask(im) * im)  #nansum treats nans as zeros for summation\n",
    "    npix_reg   = np.count_nonzero(myfilter.mask(im))\n",
    "    npix_bkg   = np.count_nonzero(bkgfilter.mask(im))\n",
    "    bkg_med    = np.nanmean(bkgfilter.mask(im) * im)\n",
    "    bkg_flux   = bkg_med * npix_reg / npix_bkg\n",
    "    net_flux   = total_flux - bkg_flux\n",
    "    print \"Npix in regions\", npix_reg, npix_bkg\n",
    "    return(total_flux, bkg_flux, net_flux)\n",
    "\n",
    "def pyregions_photometry2(regfile, bkgregfile, imagefile):\n",
    "    f = fits.open(imagefile)\n",
    "    dum = f[0].data  # screwing around to get hdu as pyregions wants it\n",
    "    im = dum.astype(np.float64)\n",
    "    reg = pyregion.open(regfile).as_imagecoord(f[0].header)\n",
    "    bkg = pyregion.open(bkgregfile).as_imagecoord(f[0].header)\n",
    "    total_flux = np.nansum(mreg.get_mask(f[0]) * im)\n",
    "    bkg_flux   = np.nansum(mbkg.get_mask(f[0]) * im)\n",
    "    return(total_flux, bkg_flux)"
   ]
  },
  {
   "cell_type": "code",
   "execution_count": 22,
   "metadata": {
    "collapsed": false
   },
   "outputs": [
    {
     "name": "stdout",
     "output_type": "stream",
     "text": [
      "(6.5199348444139105, 0.27350317177521788)\n",
      "6.51993484441 0.273503171775\n"
     ]
    }
   ],
   "source": [
    "print pyregions_photometry2(imdir + 'mike_phot555.reg', imdir + 'mike_phot555_bkg.reg', imfile1)\n",
    "\n",
    "#r = pyregion.parse(reg)\n",
    "total_flux = np.nansum(mreg.get_mask(f[0]) * im)\n",
    "#b = pyregion.parse(bkg)\n",
    "bkg_flux   = np.nansum(mbkg.get_mask(f[0]) * im)\n",
    "print total_flux, bkg_flux"
   ]
  },
  {
   "cell_type": "code",
   "execution_count": 9,
   "metadata": {
    "collapsed": false
   },
   "outputs": [
    {
     "name": "stdout",
     "output_type": "stream",
     "text": [
      "Simple aperture photometry:\n",
      "total_flux  flux_in_bkg   net_flux\n",
      "Npix in regions 1628 3518\n",
      "(5.6707804760312683, 5.0773905650809883e-09, 5.6707804709538774)\n",
      "Npix in regions 1628 3518\n",
      "(35.64421488676453, 7.035078271095579e-08, 35.644214816413751)\n"
     ]
    },
    {
     "ename": "AttributeError",
     "evalue": "'Shape' object has no attribute 'get_filter'",
     "output_type": "error",
     "traceback": [
      "\u001b[0;31m---------------------------------------------------------------------------\u001b[0m",
      "\u001b[0;31mAttributeError\u001b[0m                            Traceback (most recent call last)",
      "\u001b[0;32m<ipython-input-9-86f2f578f73a>\u001b[0m in \u001b[0;36m<module>\u001b[0;34m()\u001b[0m\n\u001b[1;32m      4\u001b[0m \u001b[0;32mprint\u001b[0m \u001b[0mpyregions_photometry\u001b[0m\u001b[0;34m(\u001b[0m\u001b[0mr\u001b[0m\u001b[0;34m,\u001b[0m \u001b[0mb\u001b[0m\u001b[0;34m,\u001b[0m \u001b[0mim2\u001b[0m\u001b[0;34m)\u001b[0m\u001b[0;34m\u001b[0m\u001b[0m\n\u001b[1;32m      5\u001b[0m \u001b[0;32mfor\u001b[0m \u001b[0mii\u001b[0m \u001b[0;32min\u001b[0m \u001b[0mrange\u001b[0m\u001b[0;34m(\u001b[0m\u001b[0;36m0\u001b[0m\u001b[0;34m,\u001b[0m\u001b[0mlen\u001b[0m\u001b[0;34m(\u001b[0m\u001b[0mmreg\u001b[0m\u001b[0;34m)\u001b[0m\u001b[0;34m-\u001b[0m\u001b[0;36m1\u001b[0m\u001b[0;34m,\u001b[0m\u001b[0;36m1\u001b[0m\u001b[0;34m)\u001b[0m \u001b[0;34m:\u001b[0m\u001b[0;34m\u001b[0m\u001b[0m\n\u001b[0;32m----> 6\u001b[0;31m     \u001b[0;32mprint\u001b[0m \u001b[0mpyregions_photometry\u001b[0m\u001b[0;34m(\u001b[0m\u001b[0mmreg\u001b[0m\u001b[0;34m[\u001b[0m\u001b[0mii\u001b[0m\u001b[0;34m]\u001b[0m\u001b[0;34m,\u001b[0m \u001b[0mmbkg\u001b[0m\u001b[0;34m,\u001b[0m \u001b[0mim\u001b[0m\u001b[0;34m)\u001b[0m\u001b[0;34m\u001b[0m\u001b[0m\n\u001b[0m",
      "\u001b[0;32m<ipython-input-8-f0baec348e95>\u001b[0m in \u001b[0;36mpyregions_photometry\u001b[0;34m(object_region, sky_region, im)\u001b[0m\n\u001b[1;32m      1\u001b[0m \u001b[0;32mdef\u001b[0m \u001b[0mpyregions_photometry\u001b[0m\u001b[0;34m(\u001b[0m\u001b[0mobject_region\u001b[0m\u001b[0;34m,\u001b[0m \u001b[0msky_region\u001b[0m\u001b[0;34m,\u001b[0m \u001b[0mim\u001b[0m\u001b[0;34m)\u001b[0m \u001b[0;34m:\u001b[0m\u001b[0;34m\u001b[0m\u001b[0m\n\u001b[1;32m      2\u001b[0m     \u001b[0;31m# Pyregions is barfing on simpler method\u001b[0m\u001b[0;34m\u001b[0m\u001b[0;34m\u001b[0m\u001b[0m\n\u001b[0;32m----> 3\u001b[0;31m     \u001b[0mmyfilter\u001b[0m   \u001b[0;34m=\u001b[0m \u001b[0mobject_region\u001b[0m\u001b[0;34m.\u001b[0m\u001b[0mget_filter\u001b[0m\u001b[0;34m(\u001b[0m\u001b[0;34m)\u001b[0m\u001b[0;34m\u001b[0m\u001b[0m\n\u001b[0m\u001b[1;32m      4\u001b[0m     \u001b[0mbkgfilter\u001b[0m  \u001b[0;34m=\u001b[0m \u001b[0msky_region\u001b[0m\u001b[0;34m.\u001b[0m\u001b[0mget_filter\u001b[0m\u001b[0;34m(\u001b[0m\u001b[0;34m)\u001b[0m\u001b[0;34m\u001b[0m\u001b[0m\n\u001b[1;32m      5\u001b[0m     \u001b[0mtotal_flux\u001b[0m \u001b[0;34m=\u001b[0m \u001b[0mnp\u001b[0m\u001b[0;34m.\u001b[0m\u001b[0mnansum\u001b[0m\u001b[0;34m(\u001b[0m\u001b[0mmyfilter\u001b[0m\u001b[0;34m.\u001b[0m\u001b[0mmask\u001b[0m\u001b[0;34m(\u001b[0m\u001b[0mim\u001b[0m\u001b[0;34m)\u001b[0m \u001b[0;34m*\u001b[0m \u001b[0mim\u001b[0m\u001b[0;34m)\u001b[0m  \u001b[0;31m#nansum treats nans as zeros for summation\u001b[0m\u001b[0;34m\u001b[0m\u001b[0m\n",
      "\u001b[0;31mAttributeError\u001b[0m: 'Shape' object has no attribute 'get_filter'"
     ]
    }
   ],
   "source": [
    "print \"Simple aperture photometry:\"\n",
    "print \"total_flux  flux_in_bkg   net_flux\"\n",
    "print pyregions_photometry(r, b, im)\n",
    "print pyregions_photometry(r, b, im2)\n",
    "for ii in range(0,len(mreg)-1,1) :\n",
    "    print pyregions_photometry(mreg[ii], mbkg, im)"
   ]
  },
  {
   "cell_type": "code",
   "execution_count": null,
   "metadata": {
    "collapsed": true
   },
   "outputs": [],
   "source": [
    "# In morning, derive constant to multiply cts in F555W, to subtract F410 cont...\n"
   ]
  },
  {
   "cell_type": "code",
   "execution_count": null,
   "metadata": {
    "collapsed": true
   },
   "outputs": [],
   "source": []
  }
 ],
 "metadata": {
  "kernelspec": {
   "display_name": "Python 2",
   "language": "python",
   "name": "python2"
  },
  "language_info": {
   "codemirror_mode": {
    "name": "ipython",
    "version": 2
   },
   "file_extension": ".py",
   "mimetype": "text/x-python",
   "name": "python",
   "nbconvert_exporter": "python",
   "pygments_lexer": "ipython2",
   "version": "2.7.11"
  }
 },
 "nbformat": 4,
 "nbformat_minor": 0
}
