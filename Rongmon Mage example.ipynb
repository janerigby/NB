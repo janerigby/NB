{
 "cells": [
  {
   "cell_type": "code",
   "execution_count": 15,
   "metadata": {
    "collapsed": false
   },
   "outputs": [],
   "source": [
    "# Rongmon, this is an example notebook to show you how to access the MagE spectra.  \n",
    "# It reads in the stacked spectra and the individual MagE spectra.\n",
    "# Most things get written into a Pandas DataFrame.\n",
    "# I then show you how to address individual spectra, and plot SiII, SiIV.  \n",
    "import jrr\n",
    "import numpy as np\n",
    "import pandas\n",
    "import matplotlib.pyplot as plt\n",
    "%matplotlib inline\n",
    "mage_mode = \"released\""
   ]
  },
  {
   "cell_type": "code",
   "execution_count": 12,
   "metadata": {
    "collapsed": false
   },
   "outputs": [
    {
     "data": {
      "text/plain": [
       "<matplotlib.text.Text at 0x11e60bdd0>"
      ]
     },
     "execution_count": 12,
     "metadata": {},
     "output_type": "execute_result"
    },
    {
     "data": {
      "image/png": "[encoded data removed]",
      "text/plain": [
       "<matplotlib.figure.Figure at 0x11dd27e50>"
      ]
     },
     "metadata": {},
     "output_type": "display_data"
    }
   ],
   "source": [
    "# Load the stacked spectra\n",
    "# Stack A has been normalized by median continuum ~1270A.\n",
    "(stackA, LL) = jrr.mage.open_stacked_spectrum(mage_mode, which_stack=\"Stack-A\", addS99=True)\n",
    "# std stack has been normalized by hand-fit continuum.  Has flat spectral slope\n",
    "(stack_std, LL) = jrr.mage.open_stacked_spectrum(mage_mode, which_stack=\"standard\", addS99=True)\n",
    "plt.plot(stack_std['rest_wave'], stack_std['rest_fnu'], color='black')\n",
    "plt.plot(stack_std['rest_wave'], stack_std['rest_fnu_u'], color='grey')\n",
    "plt.plot((1300,1500), (1,1), color='green') # continuum should be unity\n",
    "plt.xlim(1350,1450)\n",
    "plt.ylim(0,1.3)\n",
    "plt.title(\"SiIV in the stacked spectrum\")"
   ]
  },
  {
   "cell_type": "code",
   "execution_count": 14,
   "metadata": {
    "collapsed": false
   },
   "outputs": [
    {
     "name": "stdout",
     "output_type": "stream",
     "text": [
      "Loading MagE spectra in advance; this may be slow, but worthwhile if doing a lot of back and forth.\n"
     ]
    }
   ],
   "source": [
    "# Load all the MagE spectra.  This is slow. When the asterisk goes away it's done\n",
    "(sp, resoln, dresoln, LL, zz_sys, speclist) = jrr.mage.open_many_spectra(mage_mode, verbose=False)"
   ]
  },
  {
   "cell_type": "code",
   "execution_count": 18,
   "metadata": {
    "collapsed": false
   },
   "outputs": [
    {
     "name": "stdout",
     "output_type": "stream",
     "text": [
      "Stellar redshift for Cosmic Eye:  3.074834\n"
     ]
    },
    {
     "data": {
      "text/html": [
       "<div>\n",
       "<table border=\"1\" class=\"dataframe\">\n",
       "  <thead>\n",
       "    <tr style=\"text-align: right;\">\n",
       "      <th></th>\n",
       "      <th>origdir</th>\n",
       "      <th>filename</th>\n",
       "      <th>short_label</th>\n",
       "      <th>z_stars</th>\n",
       "      <th>sig_st</th>\n",
       "      <th>fl_st</th>\n",
       "      <th>z_neb</th>\n",
       "      <th>sig_neb</th>\n",
       "      <th>fl_neb</th>\n",
       "      <th>z_ISM</th>\n",
       "      <th>sig_ISM</th>\n",
       "      <th>fl_ISM</th>\n",
       "      <th>NOTES</th>\n",
       "      <th>z_syst</th>\n",
       "      <th>dz_syst</th>\n",
       "    </tr>\n",
       "    <tr>\n",
       "      <th>short_label</th>\n",
       "      <th></th>\n",
       "      <th></th>\n",
       "      <th></th>\n",
       "      <th></th>\n",
       "      <th></th>\n",
       "      <th></th>\n",
       "      <th></th>\n",
       "      <th></th>\n",
       "      <th></th>\n",
       "      <th></th>\n",
       "      <th></th>\n",
       "      <th></th>\n",
       "      <th></th>\n",
       "      <th></th>\n",
       "      <th></th>\n",
       "    </tr>\n",
       "  </thead>\n",
       "  <tbody>\n",
       "    <tr>\n",
       "      <th>S2111-0114</th>\n",
       "      <td>S2111m0114/</td>\n",
       "      <td>s2111-combwC1.txt</td>\n",
       "      <td>S2111-0114</td>\n",
       "      <td>2.859877</td>\n",
       "      <td>0.00165</td>\n",
       "      <td>False</td>\n",
       "      <td>2.8577</td>\n",
       "      <td>-999.00000</td>\n",
       "      <td>True</td>\n",
       "      <td>2.858300</td>\n",
       "      <td>0.0007</td>\n",
       "      <td>False</td>\n",
       "      <td>foo</td>\n",
       "      <td>2.85988</td>\n",
       "      <td>0.00165</td>\n",
       "    </tr>\n",
       "    <tr>\n",
       "      <th>Cosmic~Eye</th>\n",
       "      <td>Cosmic_eye/</td>\n",
       "      <td>cosmiceye-combwC1.txt</td>\n",
       "      <td>Cosmic~Eye</td>\n",
       "      <td>3.074834</td>\n",
       "      <td>0.00040</td>\n",
       "      <td>False</td>\n",
       "      <td>3.0735</td>\n",
       "      <td>0.00024</td>\n",
       "      <td>False</td>\n",
       "      <td>3.072358</td>\n",
       "      <td>0.0003</td>\n",
       "      <td>False</td>\n",
       "      <td>zneb_zism_from_Quider+10;_ISM_has_multiple_zs</td>\n",
       "      <td>3.07483</td>\n",
       "      <td>0.0004</td>\n",
       "    </tr>\n",
       "  </tbody>\n",
       "</table>\n",
       "</div>"
      ],
      "text/plain": [
       "                 origdir               filename short_label   z_stars  \\\n",
       "short_label                                                             \n",
       "S2111-0114   S2111m0114/      s2111-combwC1.txt  S2111-0114  2.859877   \n",
       "Cosmic~Eye   Cosmic_eye/  cosmiceye-combwC1.txt  Cosmic~Eye  3.074834   \n",
       "\n",
       "              sig_st  fl_st   z_neb    sig_neb fl_neb     z_ISM  sig_ISM  \\\n",
       "short_label                                                                \n",
       "S2111-0114   0.00165  False  2.8577 -999.00000   True  2.858300   0.0007   \n",
       "Cosmic~Eye   0.00040  False  3.0735    0.00024  False  3.072358   0.0003   \n",
       "\n",
       "            fl_ISM                                          NOTES   z_syst  \\\n",
       "short_label                                                                  \n",
       "S2111-0114   False                                            foo  2.85988   \n",
       "Cosmic~Eye   False  zneb_zism_from_Quider+10;_ISM_has_multiple_zs  3.07483   \n",
       "\n",
       "             dz_syst  \n",
       "short_label           \n",
       "S2111-0114   0.00165  \n",
       "Cosmic~Eye    0.0004  "
      ]
     },
     "execution_count": 18,
     "metadata": {},
     "output_type": "execute_result"
    }
   ],
   "source": [
    "# speclist is a dataframe that describes the spectra. Its index is \"short_label\", \n",
    "# which are the unique names of the spectra.  \n",
    "print \"Stellar redshift for Cosmic Eye: \", speclist.ix['Cosmic~Eye']['z_stars']\n",
    "speclist.tail(2)"
   ]
  },
  {
   "cell_type": "code",
   "execution_count": 20,
   "metadata": {
    "collapsed": false
   },
   "outputs": [
    {
     "name": "stdout",
     "output_type": "stream",
     "text": [
      "Let's pick an example galaxy: S0004-0103\n",
      "Index([u'wave', u'fnu', u'fnu_u', u'wave_sky', u'fnu_sky', u'fnu_cont',\n",
      "       u'fnu_cont_u', u'disp', u'flam', u'flam_u', u'flam_sky', u'flam_cont',\n",
      "       u'flam_cont_u', u'badmask', u'linemask', u'fnu_autocont', u'rest_wave',\n",
      "       u'rest_fnu', u'rest_fnu_u', u'rest_flam', u'rest_flam_u', u'rest_disp',\n",
      "       u'rest_fnu_cont', u'rest_fnu_cont_u', u'rest_flam_cont',\n",
      "       u'rest_flam_cont_u', u'rest_fnu_autocont', u'flam_autocont',\n",
      "       u'rest_flam_autocont', u'fnu_s99model', u'fnu_s99data',\n",
      "       u'rest_fnu_s99model', u'rest_fnu_s99data'],\n",
      "      dtype='object')\n"
     ]
    },
    {
     "data": {
      "text/html": [
       "<div>\n",
       "<table border=\"1\" class=\"dataframe\">\n",
       "  <thead>\n",
       "    <tr style=\"text-align: right;\">\n",
       "      <th></th>\n",
       "      <th>wave</th>\n",
       "      <th>fnu</th>\n",
       "      <th>fnu_u</th>\n",
       "      <th>wave_sky</th>\n",
       "      <th>fnu_sky</th>\n",
       "      <th>fnu_cont</th>\n",
       "      <th>fnu_cont_u</th>\n",
       "      <th>disp</th>\n",
       "      <th>flam</th>\n",
       "      <th>flam_u</th>\n",
       "      <th>...</th>\n",
       "      <th>rest_fnu_cont_u</th>\n",
       "      <th>rest_flam_cont</th>\n",
       "      <th>rest_flam_cont_u</th>\n",
       "      <th>rest_fnu_autocont</th>\n",
       "      <th>flam_autocont</th>\n",
       "      <th>rest_flam_autocont</th>\n",
       "      <th>fnu_s99model</th>\n",
       "      <th>fnu_s99data</th>\n",
       "      <th>rest_fnu_s99model</th>\n",
       "      <th>rest_fnu_s99data</th>\n",
       "    </tr>\n",
       "  </thead>\n",
       "  <tbody>\n",
       "    <tr>\n",
       "      <th>0</th>\n",
       "      <td>3043.6602</td>\n",
       "      <td>2.751000e-27</td>\n",
       "      <td>3.122000e-28</td>\n",
       "      <td>3042.573</td>\n",
       "      <td>1.158000e-27</td>\n",
       "      <td>-1.470000e-28</td>\n",
       "      <td>2.114000e-28</td>\n",
       "      <td>0.2265</td>\n",
       "      <td>8.902644e-16</td>\n",
       "      <td>1.010326e-16</td>\n",
       "      <td>...</td>\n",
       "      <td>7.883997e-29</td>\n",
       "      <td>-1.275570e-16</td>\n",
       "      <td>1.834391e-16</td>\n",
       "      <td>-2.434774e-30</td>\n",
       "      <td>-2.112738e-18</td>\n",
       "      <td>-5.665056e-18</td>\n",
       "      <td>NaN</td>\n",
       "      <td>NaN</td>\n",
       "      <td>NaN</td>\n",
       "      <td>NaN</td>\n",
       "    </tr>\n",
       "    <tr>\n",
       "      <th>1</th>\n",
       "      <td>3043.8867</td>\n",
       "      <td>-1.815000e-27</td>\n",
       "      <td>2.384000e-28</td>\n",
       "      <td>3042.799</td>\n",
       "      <td>1.483000e-27</td>\n",
       "      <td>-1.454000e-28</td>\n",
       "      <td>2.081000e-28</td>\n",
       "      <td>0.2265</td>\n",
       "      <td>-5.872735e-16</td>\n",
       "      <td>7.713830e-17</td>\n",
       "      <td>...</td>\n",
       "      <td>7.760926e-29</td>\n",
       "      <td>-1.261498e-16</td>\n",
       "      <td>1.805487e-16</td>\n",
       "      <td>-2.423045e-30</td>\n",
       "      <td>-2.102247e-18</td>\n",
       "      <td>-5.636925e-18</td>\n",
       "      <td>3.857558e-29</td>\n",
       "      <td>-1.807960e-27</td>\n",
       "      <td>1.438646e-29</td>\n",
       "      <td>-6.742645e-28</td>\n",
       "    </tr>\n",
       "  </tbody>\n",
       "</table>\n",
       "<p>2 rows × 33 columns</p>\n",
       "</div>"
      ],
      "text/plain": [
       "        wave           fnu         fnu_u  wave_sky       fnu_sky  \\\n",
       "0  3043.6602  2.751000e-27  3.122000e-28  3042.573  1.158000e-27   \n",
       "1  3043.8867 -1.815000e-27  2.384000e-28  3042.799  1.483000e-27   \n",
       "\n",
       "       fnu_cont    fnu_cont_u    disp          flam        flam_u  \\\n",
       "0 -1.470000e-28  2.114000e-28  0.2265  8.902644e-16  1.010326e-16   \n",
       "1 -1.454000e-28  2.081000e-28  0.2265 -5.872735e-16  7.713830e-17   \n",
       "\n",
       "         ...         rest_fnu_cont_u  rest_flam_cont  rest_flam_cont_u  \\\n",
       "0        ...            7.883997e-29   -1.275570e-16      1.834391e-16   \n",
       "1        ...            7.760926e-29   -1.261498e-16      1.805487e-16   \n",
       "\n",
       "  rest_fnu_autocont flam_autocont  rest_flam_autocont  fnu_s99model  \\\n",
       "0     -2.434774e-30 -2.112738e-18       -5.665056e-18           NaN   \n",
       "1     -2.423045e-30 -2.102247e-18       -5.636925e-18  3.857558e-29   \n",
       "\n",
       "    fnu_s99data  rest_fnu_s99model  rest_fnu_s99data  \n",
       "0           NaN                NaN               NaN  \n",
       "1 -1.807960e-27       1.438646e-29     -6.742645e-28  \n",
       "\n",
       "[2 rows x 33 columns]"
      ]
     },
     "execution_count": 20,
     "metadata": {},
     "output_type": "execute_result"
    }
   ],
   "source": [
    "# The spectra are stored in in a dictionary of dataframes, called sp\n",
    "thisgal = speclist['short_label'][5]\n",
    "print \"Let's pick an example galaxy:\", thisgal\n",
    "print sp[thisgal].keys()  # All the column names in the spectrum\n",
    "sp[thisgal].head(2)\n",
    "# The main colums you would care about are wave, fnu, rest_wave, rest_fnu.  More in email."
   ]
  },
  {
   "cell_type": "code",
   "execution_count": 21,
   "metadata": {
    "collapsed": false
   },
   "outputs": [
    {
     "data": {
      "text/plain": [
       "<matplotlib.text.Text at 0x121650990>"
      ]
     },
     "execution_count": 21,
     "metadata": {},
     "output_type": "execute_result"
    },
    {
     "data": {
      "image/png": "[encoded data removed]",
      "text/plain": [
       "<matplotlib.figure.Figure at 0x12299a610>"
      ]
     },
     "metadata": {},
     "output_type": "display_data"
    }
   ],
   "source": [
    "plt.step(sp[thisgal]['rest_wave'], sp[thisgal]['rest_fnu'], color='black')\n",
    "plt.step(sp[thisgal]['rest_wave'], sp[thisgal]['rest_fnu_autocont'], color='green')\n",
    "# rest_fnu_autocont is the automatically-generated continuum\n",
    "plt.ylim(0,4E-29)\n",
    "plt.xlim(1350,1450)\n",
    "plt.title(\"Si IV\")"
   ]
  },
  {
   "cell_type": "code",
   "execution_count": 22,
   "metadata": {
    "collapsed": false
   },
   "outputs": [
    {
     "data": {
      "text/plain": [
       "<matplotlib.text.Text at 0x121108c90>"
      ]
     },
     "execution_count": 22,
     "metadata": {},
     "output_type": "execute_result"
    },
    {
     "data": {
      "image/png": "[encoded data removed]",
      "text/plain": [
       "<matplotlib.figure.Figure at 0x11f8cc690>"
      ]
     },
     "metadata": {},
     "output_type": "display_data"
    }
   ],
   "source": [
    "plt.step(sp[thisgal]['rest_wave'], sp[thisgal]['rest_fnu'], color='black')\n",
    "plt.step(sp[thisgal]['rest_wave'], sp[thisgal]['rest_fnu_autocont'], color='green')\n",
    "plt.ylim(0,4E-29)\n",
    "plt.xlim(1200,1300)\n",
    "plt.title(\"Si II\")"
   ]
  },
  {
   "cell_type": "code",
   "execution_count": 27,
   "metadata": {
    "collapsed": false
   },
   "outputs": [
    {
     "name": "stdout",
     "output_type": "stream",
     "text": [
      "Working on galaxy rcs0327-B at z_stars= -999.0 1.0576638556e-29\n",
      "Working on galaxy rcs0327-E at z_stars= 1.703741 1.72039407621e-29\n",
      "Working on galaxy rcs0327-G at z_stars= 1.702957 1.84742117614e-29\n",
      "Working on galaxy rcs0327-U at z_stars= 1.7038 1.45905762261e-29\n",
      "Working on galaxy rcs0327-counterarc at z_stars= -999.0 9.13405868143e-30\n",
      "Working on galaxy S0004-0103 at z_stars= 1.681381 3.34566404401e-29\n",
      "Working on galaxy S0033+0242 at z_stars= 2.389583 1.53234188394e-29\n",
      "Working on galaxy S0108+0624 at z_stars= 1.9101 3.16724511185e-29\n",
      "Working on galaxy S0900+2234 at z_stars= 2.03249 2.40363529641e-29\n",
      "Working on galaxy S0957+0509 at z_stars= 1.821574 1.82770326066e-29\n",
      "Working on galaxy S1050+0017 at z_stars= -999.0 2.32849761097e-30\n",
      "Working on galaxy Horseshoe at z_stars= 2.381521 6.6316311506e-30\n",
      "Working on galaxy S1226+2152 at z_stars= 2.925257 1.62460700026e-29\n",
      "Working on galaxy S1429+1202 at z_stars= 2.82436 1.64955705007e-29\n",
      "Working on galaxy S1458-0023 at z_stars= 3.488977 5.25286719001e-30\n",
      "Working on galaxy S1527+0652 at z_stars= 2.763283 1.55196938418e-29\n",
      "Working on galaxy S1527+0652-fnt at z_stars= 2.763283 1.27574779787e-29\n",
      "Working on galaxy S2111-0114 at z_stars= 2.859877 7.63625369409e-30\n",
      "Working on galaxy Cosmic~Eye at z_stars= 3.074834 1.48668632882e-29\n"
     ]
    }
   ],
   "source": [
    "#How to loop through spectra:\n",
    "for galaxy in speclist.index :\n",
    "    print \"Working on galaxy\", galaxy, \"at z_stars=\", speclist.ix[galaxy]['z_stars'], \n",
    "    print sp[galaxy]['rest_fnu'].median()  # Do some math.  Here's where to measure stuff!"
   ]
  },
  {
   "cell_type": "code",
   "execution_count": null,
   "metadata": {
    "collapsed": false
   },
   "outputs": [],
   "source": [
    "# I hope that was a useful reference start.  Let's take from here in person.  "
   ]
  }
 ],
 "metadata": {
  "kernelspec": {
   "display_name": "Python 2",
   "language": "python",
   "name": "python2"
  },
  "language_info": {
   "codemirror_mode": {
    "name": "ipython",
    "version": 2
   },
   "file_extension": ".py",
   "mimetype": "text/x-python",
   "name": "python",
   "nbconvert_exporter": "python",
   "pygments_lexer": "ipython2",
   "version": "2.7.11"
  }
 },
 "nbformat": 4,
 "nbformat_minor": 0
}
